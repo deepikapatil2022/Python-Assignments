{
 "cells": [
  {
   "cell_type": "raw",
   "id": "56c845f7",
   "metadata": {},
   "source": [
    "1. What exactly is []?\n",
    "==>The brackets [] typically denote an empty list in many programming languages, including Python. A list is a data structure that allows you to store and organize multiple items or values in a single variable. It is a fundamental data type used for storing collections of data.\n",
    "e.g. my_list = []"
   ]
  },
  {
   "cell_type": "raw",
   "id": "32a82da6",
   "metadata": {},
   "source": [
    "2. In a list of values stored in a variable called spam, how would you assign the value 'hello' as the third value? (Assume [2, 4, 6, 8, 10] are in spam.)\n",
    "==>To assign the value 'hello' as the third value in a list stored in the variable spam, you can use indexing and assignment in Python. In Python, list indices start from 0, so the third value would have an index of 2."
   ]
  },
  {
   "cell_type": "code",
   "execution_count": 2,
   "id": "70e018cb",
   "metadata": {},
   "outputs": [
    {
     "name": "stdout",
     "output_type": "stream",
     "text": [
      "[2, 4, 'hello', 8, 10]\n"
     ]
    }
   ],
   "source": [
    "spam = [2, 4, 6, 8, 10]\n",
    "spam[2] = 'hello'\n",
    "print(spam)"
   ]
  },
  {
   "cell_type": "raw",
   "id": "c2543975",
   "metadata": {},
   "source": [
    "Let's pretend the spam includes the list ['a', 'b', 'c', 'd'] for the next three queries.\n",
    "3. What is the value of spam[int(int('3' * 2) / 11)]?\n",
    "4. What is the value of spam[-1]?\n",
    "5. What is the value of spam[:2]?"
   ]
  },
  {
   "cell_type": "code",
   "execution_count": 3,
   "id": "36c13826",
   "metadata": {},
   "outputs": [
    {
     "name": "stdout",
     "output_type": "stream",
     "text": [
      "['a', 'b', 'c', 'd']\n"
     ]
    }
   ],
   "source": [
    "spam=['a', 'b', 'c', 'd']\n",
    "spam[int(int('3' * 2) / 11)]\n",
    "print(spam)"
   ]
  },
  {
   "cell_type": "code",
   "execution_count": 4,
   "id": "e25c11d1",
   "metadata": {},
   "outputs": [
    {
     "data": {
      "text/plain": [
       "'d'"
      ]
     },
     "execution_count": 4,
     "metadata": {},
     "output_type": "execute_result"
    }
   ],
   "source": [
    "spam[-1]"
   ]
  },
  {
   "cell_type": "code",
   "execution_count": 5,
   "id": "e73e3b4b",
   "metadata": {},
   "outputs": [
    {
     "data": {
      "text/plain": [
       "['a', 'b']"
      ]
     },
     "execution_count": 5,
     "metadata": {},
     "output_type": "execute_result"
    }
   ],
   "source": [
    "spam[:2]"
   ]
  },
  {
   "cell_type": "raw",
   "id": "9aed9a3e",
   "metadata": {},
   "source": [
    "Let's pretend bacon has the list [3.14, 'cat,' 11, 'cat,' True] for the next three questions.\n",
    "6. What is the value of bacon.index('cat')?\n",
    "7. How does bacon.append(99) change the look of the list value in bacon?\n",
    "8. How does bacon.remove('cat') change the look of the list in bacon?"
   ]
  },
  {
   "cell_type": "code",
   "execution_count": 8,
   "id": "25dbd423",
   "metadata": {},
   "outputs": [
    {
     "data": {
      "text/plain": [
       "1"
      ]
     },
     "execution_count": 8,
     "metadata": {},
     "output_type": "execute_result"
    }
   ],
   "source": [
    "bacon=[3.14, 'cat', 11, 'cat', True]\n",
    "bacon.index('cat')"
   ]
  },
  {
   "cell_type": "code",
   "execution_count": 10,
   "id": "2a108bf1",
   "metadata": {},
   "outputs": [
    {
     "name": "stdout",
     "output_type": "stream",
     "text": [
      "[3.14, 11, 'cat', True, 99]\n"
     ]
    }
   ],
   "source": [
    "bacon.append(99)\n",
    "print(bacon)"
   ]
  },
  {
   "cell_type": "code",
   "execution_count": 9,
   "id": "cf4c2ccd",
   "metadata": {},
   "outputs": [
    {
     "name": "stdout",
     "output_type": "stream",
     "text": [
      "[3.14, 11, 'cat', True]\n"
     ]
    }
   ],
   "source": [
    "bacon.remove('cat')\n",
    "print(bacon)"
   ]
  },
  {
   "cell_type": "code",
   "execution_count": null,
   "id": "7b970ebe",
   "metadata": {},
   "outputs": [],
   "source": [
    "9. What are the list concatenation and list replication operators?\n",
    "-->List Concatenation (+): The + operator is used to combine two or more lists into a single list. Here's an example:"
   ]
  },
  {
   "cell_type": "code",
   "execution_count": 1,
   "id": "97e6fb49",
   "metadata": {},
   "outputs": [
    {
     "name": "stdout",
     "output_type": "stream",
     "text": [
      "[1, 2, 3, 4, 5, 6]\n"
     ]
    }
   ],
   "source": [
    "list1 = [1, 2, 3]\n",
    "list2 = [4, 5, 6]\n",
    "concatenated_list = list1 + list2\n",
    "\n",
    "print(concatenated_list)"
   ]
  },
  {
   "cell_type": "raw",
   "id": "85652059",
   "metadata": {},
   "source": [
    "List Replication (*): The * operator is used to replicate a list a certain number of times. It creates a new list by repeating the elements of the original list. For example:"
   ]
  },
  {
   "cell_type": "code",
   "execution_count": 2,
   "id": "bc51242f",
   "metadata": {},
   "outputs": [
    {
     "name": "stdout",
     "output_type": "stream",
     "text": [
      "[1, 2, 3, 1, 2, 3, 1, 2, 3]\n"
     ]
    }
   ],
   "source": [
    "original_list = [1, 2, 3]\n",
    "replicated_list = original_list * 3\n",
    "\n",
    "print(replicated_list)"
   ]
  },
  {
   "cell_type": "code",
   "execution_count": null,
   "id": "05e8ae67",
   "metadata": {},
   "outputs": [],
   "source": [
    "10. What is difference between the list methods append() and insert()?\n",
    "==>append() and insert() are both methods in Python that allow you to add elements to a list, but they do so in slightly different ways:\n",
    "\n",
    "append():\n",
    "\n",
    "The append() method is used to add an element to the end of a list.\n",
    "It takes a single argument, which is the element you want to add.\n",
    "Example:"
   ]
  },
  {
   "cell_type": "code",
   "execution_count": 4,
   "id": "25b62de9",
   "metadata": {},
   "outputs": [
    {
     "data": {
      "text/plain": [
       "[1, 2, 3, 4]"
      ]
     },
     "execution_count": 4,
     "metadata": {},
     "output_type": "execute_result"
    }
   ],
   "source": [
    "my_list = [1, 2, 3]\n",
    "my_list.append(4)\n",
    "my_list"
   ]
  },
  {
   "cell_type": "code",
   "execution_count": null,
   "id": "dfcb0858",
   "metadata": {},
   "outputs": [],
   "source": [
    "insert():\n",
    "\n",
    "The insert() method is used to add an element at a specified index position.\n",
    "It takes two arguments: the index where you want to insert the element, and the element itself.\n",
    "Example:"
   ]
  },
  {
   "cell_type": "code",
   "execution_count": 5,
   "id": "9dddf8a6",
   "metadata": {},
   "outputs": [
    {
     "data": {
      "text/plain": [
       "[1, '5', 2, 3]"
      ]
     },
     "execution_count": 5,
     "metadata": {},
     "output_type": "execute_result"
    }
   ],
   "source": [
    "my_list = [1, 2, 3]\n",
    "my_list.insert(1, \"5\")\n",
    "my_list"
   ]
  },
  {
   "cell_type": "code",
   "execution_count": null,
   "id": "6ab5a05e",
   "metadata": {},
   "outputs": [],
   "source": [
    "append() adds an element to the end of a list.\n",
    "insert() adds an element at a specified index position, shifting the elements to the right."
   ]
  },
  {
   "cell_type": "code",
   "execution_count": null,
   "id": "f7fb409b",
   "metadata": {},
   "outputs": [],
   "source": [
    "11. What are the two methods for removing items from a list?\n",
    "==>\n",
    "remove():\n",
    "\n",
    "The remove() method is used to remove the first occurrence of a specified value from a list.\n",
    "It takes a single argument, which is the value you want to remove.\n",
    "Example:"
   ]
  },
  {
   "cell_type": "code",
   "execution_count": 6,
   "id": "3aaab380",
   "metadata": {},
   "outputs": [
    {
     "data": {
      "text/plain": [
       "[1, 3, 4, 2]"
      ]
     },
     "execution_count": 6,
     "metadata": {},
     "output_type": "execute_result"
    }
   ],
   "source": [
    "my_list = [1, 2, 3, 4, 2]\n",
    "my_list.remove(2)\n",
    "my_list"
   ]
  },
  {
   "cell_type": "code",
   "execution_count": null,
   "id": "3bb55e58",
   "metadata": {},
   "outputs": [],
   "source": [
    "pop():\n",
    "\n",
    "The pop() method is used to remove an element from a specific index position and return it.\n",
    "It takes a single argument, which is the index of the element you want to remove.\n",
    "Example:"
   ]
  },
  {
   "cell_type": "code",
   "execution_count": 7,
   "id": "130b322a",
   "metadata": {},
   "outputs": [
    {
     "data": {
      "text/plain": [
       "3"
      ]
     },
     "execution_count": 7,
     "metadata": {},
     "output_type": "execute_result"
    }
   ],
   "source": [
    "my_list = [1, 2, 3, 4, 5]\n",
    "removed_element = my_list.pop(2)\n",
    "removed_element"
   ]
  },
  {
   "cell_type": "code",
   "execution_count": null,
   "id": "a65fed2f",
   "metadata": {},
   "outputs": [],
   "source": [
    "12. Describe how list values and string values are identical.\n",
    "\n",
    "==>List values and string values in Python have some similarities:\n",
    "\n",
    "Sequential Data: Both lists and strings are sequences of elements. In a string, these elements are characters, while in a list, they can be any data type (including other lists).\n",
    "\n",
    "Indexing: Elements in both lists and strings can be accessed by their index (position) within the sequence. Indexing starts from 0 for the first element.\n",
    "\n",
    "Example (for a string):\n"
   ]
  },
  {
   "cell_type": "code",
   "execution_count": 8,
   "id": "45ae07bd",
   "metadata": {},
   "outputs": [
    {
     "name": "stdout",
     "output_type": "stream",
     "text": [
      "H\n"
     ]
    }
   ],
   "source": [
    "my_string = \"Hello\"\n",
    "print(my_string[0])  # Output: 'H'\n"
   ]
  },
  {
   "cell_type": "code",
   "execution_count": 9,
   "id": "5cdbba68",
   "metadata": {},
   "outputs": [
    {
     "name": "stdout",
     "output_type": "stream",
     "text": [
      "3\n"
     ]
    }
   ],
   "source": [
    "my_list = [1, 2, 3, 4]\n",
    "print(my_list[2])  # Output: 3\n"
   ]
  },
  {
   "cell_type": "code",
   "execution_count": null,
   "id": "94479f57",
   "metadata": {},
   "outputs": [],
   "source": [
    "Slicing: Both lists and strings can be sliced to extract sub-sequences.\n",
    "\n",
    "Example (for a string):"
   ]
  },
  {
   "cell_type": "code",
   "execution_count": 10,
   "id": "83f66f91",
   "metadata": {},
   "outputs": [
    {
     "name": "stdout",
     "output_type": "stream",
     "text": [
      "ell\n"
     ]
    }
   ],
   "source": [
    "my_string = \"Hello\"\n",
    "print(my_string[1:4])  # Output: 'ell'\n"
   ]
  },
  {
   "cell_type": "code",
   "execution_count": 11,
   "id": "f292a7af",
   "metadata": {},
   "outputs": [
    {
     "name": "stdout",
     "output_type": "stream",
     "text": [
      "[2, 3]\n"
     ]
    }
   ],
   "source": [
    "my_list = [1, 2, 3, 4]\n",
    "print(my_list[1:3])  # Output: [2, 3]\n"
   ]
  },
  {
   "cell_type": "code",
   "execution_count": null,
   "id": "965f66a9",
   "metadata": {},
   "outputs": [],
   "source": [
    "Iterability: Both lists and strings can be used in loops as they are iterable.\n",
    "\n",
    "Example (for a string):"
   ]
  },
  {
   "cell_type": "code",
   "execution_count": 12,
   "id": "8f415a90",
   "metadata": {},
   "outputs": [
    {
     "name": "stdout",
     "output_type": "stream",
     "text": [
      "H\n",
      "e\n",
      "l\n",
      "l\n",
      "o\n"
     ]
    }
   ],
   "source": [
    "my_string = \"Hello\"\n",
    "for char in my_string:\n",
    "    print(char)\n"
   ]
  },
  {
   "cell_type": "code",
   "execution_count": 13,
   "id": "c139e456",
   "metadata": {},
   "outputs": [
    {
     "name": "stdout",
     "output_type": "stream",
     "text": [
      "1\n",
      "2\n",
      "3\n",
      "4\n"
     ]
    }
   ],
   "source": [
    "my_list = [1, 2, 3, 4]\n",
    "for item in my_list:\n",
    "    print(item)\n"
   ]
  },
  {
   "cell_type": "code",
   "execution_count": null,
   "id": "84f16381",
   "metadata": {},
   "outputs": [],
   "source": [
    "Length: You can use the len() function to determine the number of elements in a list or the number of characters in a string.\n",
    "\n",
    "Example (for a string):"
   ]
  },
  {
   "cell_type": "code",
   "execution_count": 14,
   "id": "126167c9",
   "metadata": {},
   "outputs": [
    {
     "name": "stdout",
     "output_type": "stream",
     "text": [
      "5\n"
     ]
    }
   ],
   "source": [
    "my_string = \"Hello\"\n",
    "print(len(my_string))  # Output: 5\n"
   ]
  },
  {
   "cell_type": "code",
   "execution_count": 15,
   "id": "c8a04fe2",
   "metadata": {},
   "outputs": [
    {
     "name": "stdout",
     "output_type": "stream",
     "text": [
      "4\n"
     ]
    }
   ],
   "source": [
    "my_list = [1, 2, 3, 4]\n",
    "print(len(my_list))  # Output: 4\n"
   ]
  },
  {
   "cell_type": "raw",
   "id": "48ee6132",
   "metadata": {},
   "source": [
    "Inclusion in Other Data Structures: Both lists and strings can be elements in other data structures like lists, dictionaries, etc.\n",
    "\n",
    "Example (for a list):"
   ]
  },
  {
   "cell_type": "code",
   "execution_count": 17,
   "id": "42415af8",
   "metadata": {},
   "outputs": [
    {
     "data": {
      "text/plain": [
       "[4, 5, [1, 2, 3]]"
      ]
     },
     "execution_count": 17,
     "metadata": {},
     "output_type": "execute_result"
    }
   ],
   "source": [
    "my_list = [1, 2, 3]\n",
    "another_list = [4, 5, my_list]\n",
    "another_list"
   ]
  },
  {
   "cell_type": "code",
   "execution_count": 18,
   "id": "c8bacd77",
   "metadata": {},
   "outputs": [
    {
     "data": {
      "text/plain": [
       "[1, 2, 'Hello']"
      ]
     },
     "execution_count": 18,
     "metadata": {},
     "output_type": "execute_result"
    }
   ],
   "source": [
    "my_string = \"Hello\"\n",
    "my_list = [1, 2, my_string]\n",
    "my_list"
   ]
  },
  {
   "cell_type": "raw",
   "id": "c1adb65e",
   "metadata": {},
   "source": [
    "13. What's the difference between tuples and lists?\n",
    "\n",
    "==>Mutability:\n",
    "\n",
    "List:\n",
    "\n",
    "Lists are mutable, which means you can change the elements after the list is created. You can modify, add, or remove elements from a list.\n",
    "Lists are defined using square brackets [ ].\n",
    "Tuple:\n",
    "\n",
    "Tuples are immutable, which means you cannot change the elements after the tuple is created. Once a tuple is defined, you cannot modify its elements.\n",
    "Tuples are defined using parentheses ( ).\n",
    "Syntax:\n",
    "\n",
    "Lists are created using square brackets [ ].\n",
    "Tuples are created using parentheses ( )."
   ]
  },
  {
   "cell_type": "code",
   "execution_count": 20,
   "id": "d1568e21",
   "metadata": {},
   "outputs": [
    {
     "name": "stdout",
     "output_type": "stream",
     "text": [
      "(1, 2, 3)\n",
      "[1, 2, 3]\n"
     ]
    }
   ],
   "source": [
    "my_list = [1, 2, 3]\n",
    "my_tuple = (1, 2, 3)\n",
    "print(my_tuple)\n",
    "print(my_list)"
   ]
  },
  {
   "cell_type": "raw",
   "id": "9c86deb7",
   "metadata": {},
   "source": [
    "Performance:\n",
    "\n",
    "Tuples are generally more memory efficient and faster than lists, especially when you're working with a large dataset. This is because tuples are immutable, and the interpreter can optimize memory allocation."
   ]
  },
  {
   "cell_type": "raw",
   "id": "4b6b2ba9",
   "metadata": {},
   "source": [
    "Use Case:\n",
    "\n",
    "List:\n",
    "\n",
    "Use lists when you have a collection of items that may need to be modified, extended, or reordered.\n",
    "Lists are used for dynamic data where you might want to change the elements later.\n",
    "Tuple:\n",
    "\n",
    "Use tuples when you want to represent a collection of items that should not be changed, such as coordinates, database records, or when you want to ensure data integrity.\n",
    "Tuples are often used as keys in dictionaries because they are hashable (unlike lists).\n",
    "Methods:\n",
    "\n",
    "Lists have several built-in methods, like append(), remove(), pop(), etc., which allow you to modify the list after it's created.\n",
    "\n",
    "Tuples have fewer methods compared to lists because they are immutable. They mainly support operations like indexing and counting elements.\n",
    "\n",
    "Iteration:\n",
    "\n",
    "Both lists and tuples can be iterated over using loops, as they are iterable objects.\n",
    "Example (for both list and tuple):"
   ]
  },
  {
   "cell_type": "code",
   "execution_count": 21,
   "id": "e6b3b036",
   "metadata": {},
   "outputs": [
    {
     "name": "stdout",
     "output_type": "stream",
     "text": [
      "1\n",
      "2\n",
      "3\n",
      "1\n",
      "2\n",
      "3\n"
     ]
    }
   ],
   "source": [
    "my_list = [1, 2, 3]\n",
    "my_tuple = (1, 2, 3)\n",
    "\n",
    "for item in my_list:\n",
    "    print(item)\n",
    "\n",
    "for item in my_tuple:\n",
    "    print(item)\n"
   ]
  },
  {
   "cell_type": "raw",
   "id": "7f9b3bc5",
   "metadata": {},
   "source": [
    "14. How do you type a tuple value that only contains the integer 42?\n",
    "==>To create a tuple containing the integer 42, you can simply enclose it within parentheses. Here's how you would do it:\n",
    "\n",
    "python\n",
    "Copy code\n",
    "my_tuple = (42,)\n",
    "\n",
    "The comma after the 42 is important. It distinguishes the tuple from a regular expression surrounded by parentheses. This way, Python recognizes it as a tuple with a single element.\n",
    "\n",
    "Without the comma, Python would interpret the parentheses as simply indicating the order of operations, and you would end up with an integer, not a tuple.\n",
    "\n",
    "So, my_tuple = (42,) creates a tuple with a single element, which is the integer 42.\n",
    "\n",
    "\n",
    "\n",
    "\n"
   ]
  },
  {
   "cell_type": "code",
   "execution_count": 24,
   "id": "6068a356",
   "metadata": {},
   "outputs": [
    {
     "data": {
      "text/plain": [
       "(42,)"
      ]
     },
     "execution_count": 24,
     "metadata": {},
     "output_type": "execute_result"
    }
   ],
   "source": [
    "my_tuple = (42,)\n",
    "my_tuple"
   ]
  },
  {
   "cell_type": "code",
   "execution_count": 25,
   "id": "8e0e2b5f",
   "metadata": {},
   "outputs": [
    {
     "data": {
      "text/plain": [
       "42"
      ]
     },
     "execution_count": 25,
     "metadata": {},
     "output_type": "execute_result"
    }
   ],
   "source": [
    "my_tuple = (42)\n",
    "my_tuple"
   ]
  },
  {
   "cell_type": "code",
   "execution_count": null,
   "id": "9ed6d6a3",
   "metadata": {},
   "outputs": [],
   "source": [
    "15. How do you get a list value's tuple form? How do you get a tuple value's list form?\n",
    "==>You can convert a list to a tuple and a tuple to a list using the tuple() and list() functions, respectively.\n",
    "\n",
    "Converting a List to a Tuple:"
   ]
  },
  {
   "cell_type": "code",
   "execution_count": 26,
   "id": "c020fb65",
   "metadata": {},
   "outputs": [
    {
     "data": {
      "text/plain": [
       "(1, 2, 3)"
      ]
     },
     "execution_count": 26,
     "metadata": {},
     "output_type": "execute_result"
    }
   ],
   "source": [
    "my_list = [1, 2, 3]\n",
    "my_tuple = tuple(my_list)\n",
    "my_tuple"
   ]
  },
  {
   "cell_type": "code",
   "execution_count": null,
   "id": "72ba6acd",
   "metadata": {},
   "outputs": [],
   "source": [
    "Converting a Tuple to a List:\n"
   ]
  },
  {
   "cell_type": "code",
   "execution_count": 27,
   "id": "323d9412",
   "metadata": {},
   "outputs": [
    {
     "data": {
      "text/plain": [
       "[1, 2, 3]"
      ]
     },
     "execution_count": 27,
     "metadata": {},
     "output_type": "execute_result"
    }
   ],
   "source": [
    "my_tuple = (1, 2, 3)\n",
    "my_list = list(my_tuple)\n",
    "my_list"
   ]
  },
  {
   "cell_type": "code",
   "execution_count": null,
   "id": "073d3cde",
   "metadata": {},
   "outputs": [],
   "source": [
    "Here, my_tuple is converted to a list using the list() function. my_list will be [1, 2, 3]."
   ]
  },
  {
   "cell_type": "raw",
   "id": "9c2489f9",
   "metadata": {},
   "source": [
    "16. Variables that \"contain\" list values are not necessarily lists themselves. Instead, what do they contain?\n",
    "==>Variables that \"contain\" list values in Python actually contain references to those lists, not the lists themselves.\n",
    "\n",
    "In Python, variables are like labels or pointers that point to a location in memory where the actual data (in this case, the list) is stored. When you assign a list to a variable, you're actually storing a reference to the memory location where the list is stored.\n",
    "\n",
    "For example:\n"
   ]
  },
  {
   "cell_type": "code",
   "execution_count": null,
   "id": "ddd31594",
   "metadata": {},
   "outputs": [],
   "source": [
    "my_list = [1, 2, 3]\n",
    "another_list = my_list\n"
   ]
  },
  {
   "cell_type": "raw",
   "id": "ae3ead3b",
   "metadata": {},
   "source": [
    "Now, both my_list and another_list point to the same list in memory. If you modify the list using one variable, the change will be reflected when you access the list using the other variable"
   ]
  },
  {
   "cell_type": "raw",
   "id": "139977f3",
   "metadata": {},
   "source": [
    "17. How do you distinguish between copy.copy() and copy.deepcopy()?\n",
    "==>copy.copy() and copy.deepcopy() are two functions provided by the copy module in Python. They are used to create copies of objects, especially when dealing with complex data structures like lists of lists or dictionaries of dictionaries.\n",
    "\n",
    "Here's how they differ:\n",
    "\n",
    "copy.copy() (Shallow Copy):\n",
    "\n",
    "copy.copy() creates a new object that is a shallow copy of the original object.\n",
    "A shallow copy means that it creates a new container (like a list or dictionary), but it doesn't create new copies of the elements within the container. Instead, it copies references to the original elements. This means that if the elements themselves are mutable (like lists or dictionaries), changes to those elements will be reflected in both the original and the copy.\n",
    "Shallow copy is suitable for simple data structures with no nested mutable objects.\n",
    "Example:"
   ]
  },
  {
   "cell_type": "code",
   "execution_count": 28,
   "id": "17d9b0c6",
   "metadata": {},
   "outputs": [
    {
     "name": "stdout",
     "output_type": "stream",
     "text": [
      "[1, [42, 3], 4]\n"
     ]
    }
   ],
   "source": [
    "import copy\n",
    "\n",
    "original_list = [1, [2, 3], 4]\n",
    "shallow_copy = copy.copy(original_list)\n",
    "\n",
    "original_list[1][0] = 42\n",
    "print(shallow_copy)\n"
   ]
  },
  {
   "cell_type": "raw",
   "id": "31fc34bb",
   "metadata": {},
   "source": [
    "copy.deepcopy() (Deep Copy):\n",
    "\n",
    "copy.deepcopy() creates a new object that is a deep copy of the original object.\n",
    "A deep copy creates new containers and recursively creates new copies of all the objects found in the original. This means that changes to the elements in the deep copy will not affect the original.\n",
    "Deep copy is suitable for complex data structures with nested mutable objects.\n",
    "Example:"
   ]
  },
  {
   "cell_type": "code",
   "execution_count": 30,
   "id": "8c146398",
   "metadata": {},
   "outputs": [
    {
     "name": "stdout",
     "output_type": "stream",
     "text": [
      "[1, [2, 3], 4]\n",
      "[1, [42, 3], 4]\n"
     ]
    }
   ],
   "source": [
    "import copy\n",
    "\n",
    "original_list = [1, [2, 3], 4]\n",
    "deep_copy = copy.deepcopy(original_list)\n",
    "\n",
    "original_list[1][0] = 42\n",
    "print(deep_copy)\n",
    "print(original_list)\n"
   ]
  },
  {
   "cell_type": "code",
   "execution_count": null,
   "id": "1071f865",
   "metadata": {},
   "outputs": [],
   "source": []
  }
 ],
 "metadata": {
  "kernelspec": {
   "display_name": "Python 3 (ipykernel)",
   "language": "python",
   "name": "python3"
  },
  "language_info": {
   "codemirror_mode": {
    "name": "ipython",
    "version": 3
   },
   "file_extension": ".py",
   "mimetype": "text/x-python",
   "name": "python",
   "nbconvert_exporter": "python",
   "pygments_lexer": "ipython3",
   "version": "3.9.7"
  }
 },
 "nbformat": 4,
 "nbformat_minor": 5
}
