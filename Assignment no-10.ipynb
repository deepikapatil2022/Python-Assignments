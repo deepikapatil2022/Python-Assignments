{
 "cells": [
  {
   "cell_type": "markdown",
   "id": "ff87e652",
   "metadata": {},
   "source": [
    "1. How do you distinguish between shutil.copy() and shutil.copytree()?\n",
    "==>shutil.copy() and shutil.copytree() are both functions provided by the shutil module in Python for file operations.\n",
    "\n",
    "Here are the key differences between them:\n",
    "\n",
    "shutil.copy(src, dst):\n",
    "\n",
    "This function is used to copy a single file from the source (src) to the destination (dst).\n",
    "If the dst path does not exist, it will be treated as the new file name.\n",
    "If the dst path points to an existing directory, the file will be copied into that directory with the same name as the original file.\n",
    "Example:\n",
    "\n"
   ]
  },
  {
   "cell_type": "code",
   "execution_count": null,
   "id": "1aa8b8e5",
   "metadata": {},
   "outputs": [],
   "source": [
    "\n",
    "import shutil\n",
    "\n",
    "# Copy a file\n",
    "shutil.copy('source.txt', 'destination.txt')\n",
    "shutil.copytree(src, dst):"
   ]
  },
  {
   "cell_type": "markdown",
   "id": "76730c8d",
   "metadata": {},
   "source": [
    "\n",
    "This function is used to recursively copy an entire directory and its contents from the source (src) to the destination (dst).\n",
    "If the dst directory already exists, the contents of the src directory will be copied into the dst directory. If the dst directory does not exist, it will be created.\n",
    "Example:"
   ]
  },
  {
   "cell_type": "code",
   "execution_count": null,
   "id": "37e31be5",
   "metadata": {},
   "outputs": [],
   "source": [
    "import shutil\n",
    "\n",
    "# Copy a directory\n",
    "shutil.copytree('source_dir', 'destination_dir')\n"
   ]
  },
  {
   "cell_type": "markdown",
   "id": "e11be444",
   "metadata": {},
   "source": [
    "In summary, shutil.copy() is used to copy individual files, while shutil.copytree() is used to copy entire directories and their contents."
   ]
  },
  {
   "cell_type": "code",
   "execution_count": null,
   "id": "3c070378",
   "metadata": {},
   "outputs": [],
   "source": [
    "2. What function is used to rename files??\n",
    "==>\n",
    "The function used to rename files in Python is os.rename().\n",
    "\n",
    "Here's an example of how to use it:\n",
    "\n",
    "import os\n",
    "\n",
    "# Rename a file\n",
    "os.rename('old_filename.txt', 'new_filename.txt')\n",
    "In this example, the os.rename() function is used to rename the file from 'old_filename.txt' to 'new_filename.txt'."
   ]
  },
  {
   "cell_type": "markdown",
   "id": "6e7ca482",
   "metadata": {},
   "source": [
    "3. What is the difference between the delete functions in the send2trash and shutil modules?\n",
    "\n",
    "==>The send2trash and shutil modules in Python provide functions for deleting files and directories, but they have some key differences:\n",
    "\n",
    "send2trash Module:\n",
    "\n",
    "The send2trash module is a third-party module that provides a safe way to send files or directories to the system's trash or recycle bin, rather than permanently deleting them. This means that you can recover them from the trash if needed.\n",
    "The main function provided by send2trash is send2trash.send2trash(path). This function moves the specified file or directory to the trash.\n",
    "Example:\n",
    "\n",
    "import send2trash\n",
    "\n",
    "send2trash.send2trash('my_file.txt')\n",
    "This will move 'my_file.txt' to the trash, if supported by the operating system.\n",
    "shutil Module:\n",
    "\n",
    "The shutil module is part of the Python standard library and provides a wide range of file operations, including functions for copying, moving, and deleting files and directories.\n",
    "The shutil module contains the shutil.rmtree(path) function, which is used to recursively delete a directory and its contents. It does not send files to the trash; instead, it permanently deletes them.\n",
    "Example:\n",
    "\n",
    "import shutil\n",
    "\n",
    "shutil.rmtree('my_directory')\n",
    "This will permanently delete the 'my_directory' and its contents.\n",
    "In summary, the main difference between the two modules is that send2trash provides a safe way to move files or directories to the system's trash or recycle bin, while shutil is used for performing various file operations, including permanently deleting files and directories.\n",
    "\n"
   ]
  },
  {
   "cell_type": "code",
   "execution_count": null,
   "id": "ac1d5cde",
   "metadata": {},
   "outputs": [],
   "source": [
    "4.ZipFile objects have a close() method just like File objects’ close() method. What ZipFile method is\n",
    "equivalent to File objects’ open() method?\n",
    "\n",
    "==>The equivalent method to a File object's open() method for a ZipFile object is zipfile.ZipFile().\n",
    "\n",
    "To open a ZIP file, you would use zipfile.ZipFile() like so:\n",
    "\n",
    "\n",
    "import zipfile\n",
    "\n",
    "# Open a ZIP file\n",
    "with zipfile.ZipFile('my_archive.zip', 'r') as zip_file:\n",
    "    # Perform operations on the ZIP file\n",
    "    # ...\n",
    "In this example, zipfile.ZipFile() is used to open the ZIP file named 'my_archive.zip' in read mode ('r'). \n",
    "The with statement ensures that the ZIP file is automatically closed after the block of code is executed.\n",
    "\n",
    "Similarly, you can use 'w' mode to create a new ZIP file or to overwrite an existing one:\n",
    "\n",
    "import zipfile\n",
    "\n",
    "# Create a new ZIP file\n",
    "with zipfile.ZipFile('new_archive.zip', 'w') as zip_file:\n",
    "    # Add files to the ZIP file\n",
    "    # ...\n",
    "This will create a new ZIP file named 'new_archive.zip' or overwrite it if it already exists."
   ]
  },
  {
   "cell_type": "code",
   "execution_count": null,
   "id": "47bcc174",
   "metadata": {},
   "outputs": [],
   "source": [
    "5. Create a programme that searches a folder tree for files with a certain file extension (such as .pdf\n",
    "or .jpg). Copy these files from whatever location they are in to a new folder.\n",
    "\n",
    "==>"
   ]
  },
  {
   "cell_type": "code",
   "execution_count": null,
   "id": "0216e72f",
   "metadata": {},
   "outputs": [],
   "source": [
    "import os\n",
    "import shutil\n",
    "\n",
    "def search_and_copy(source_folder, destination_folder, file_extension):\n",
    "    # Create the destination folder if it doesn't exist\n",
    "    if not os.path.exists(destination_folder):\n",
    "        os.makedirs(destination_folder)\n",
    "    \n",
    "    # Walk through the source folder and its subdirectories\n",
    "    for root, dirs, files in os.walk(source_folder):\n",
    "        for file in files:\n",
    "            if file.endswith(file_extension):\n",
    "                source_path = os.path.join(root, file)\n",
    "                destination_path = os.path.join(destination_folder, file)\n",
    "                \n",
    "                # Copy the file to the destination folder\n",
    "                shutil.copy2(source_path, destination_path)\n",
    "                print(f'Copied: {source_path} to {destination_path}')\n",
    "\n",
    "# Specify the source folder, destination folder, and file extension\n",
    "source_folder = '/path/to/source_folder'  # Replace with the actual source folder path\n",
    "destination_folder = '/path/to/destination_folder'  # Replace with the actual destination folder path\n",
    "file_extension = '.pdf'\n",
    "\n",
    "# Call the function to search and copy files\n",
    "search_and_copy(source_folder, destination_folder, file_extension)\n"
   ]
  }
 ],
 "metadata": {
  "kernelspec": {
   "display_name": "Python 3 (ipykernel)",
   "language": "python",
   "name": "python3"
  },
  "language_info": {
   "codemirror_mode": {
    "name": "ipython",
    "version": 3
   },
   "file_extension": ".py",
   "mimetype": "text/x-python",
   "name": "python",
   "nbconvert_exporter": "python",
   "pygments_lexer": "ipython3",
   "version": "3.9.7"
  }
 },
 "nbformat": 4,
 "nbformat_minor": 5
}
