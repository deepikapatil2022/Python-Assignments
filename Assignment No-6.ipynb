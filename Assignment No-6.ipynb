{
 "cells": [
  {
   "cell_type": "raw",
   "id": "d18db4fe",
   "metadata": {},
   "source": [
    "\n",
    "\n",
    "\n",
    "\n",
    "\n"
   ]
  },
  {
   "cell_type": "raw",
   "id": "a59ee591",
   "metadata": {},
   "source": [
    "1. What are escape characters, and how do you use them?\n",
    "==>Escape characters in Python are special characters that are used to represent characters that are difficult or impossible to type directly into a string. They are preceded by a backslash \\.\n",
    "\n",
    "Here are some commonly used escape characters:\n",
    "\n",
    "\\n: Represents a newline character. It starts a new line.\n",
    "\n",
    "Example:\n",
    "\n",
    "print(\"Hello\\nWorld\")\n",
    "Output:\n",
    "\n",
    "Hello\n",
    "World\n",
    "\n",
    "\\t: Represents a tab character. It creates a horizontal tab space.\n",
    "\n",
    "Example:\n",
    "\n",
    "print(\"Hello\\tWorld\")\n",
    "Output:\n",
    "\n",
    "Hello   World\n",
    "\\\\: Represents a backslash character. It is used to escape the backslash itself.\n",
    "\n",
    "Example:\n",
    "\n",
    "print(\"This is a backslash: \\\\\")\n",
    "Output:\n",
    "\n",
    "\n",
    "This is a backslash: \\\n",
    "\n",
    "\\' and `\"`: Represent single and double quotes within a string, respectively.\n",
    "\n",
    "Example:\n",
    "\n",
    "print('She said, \\'Hello!\\'')\n",
    "print(\"He said, \\\"Hi!\\\"\")\n",
    "Output:\n",
    "\n",
    "She said, 'Hello!'\n",
    "He said, \"Hi!\"\n",
    "\n",
    "\\b: Represents a backspace character. It moves the cursor one position back.\n",
    "\n",
    "Example:\n",
    "\n",
    "print(\"Hello\\bWorld\")\n",
    "Output:\n",
    "\n",
    "HellWorld\n",
    "\n",
    "\\r: Represents a carriage return. It moves the cursor to the beginning of the line.\n",
    "\n",
    "Example:\n",
    "\n",
    "print(\"Hello\\rWorld\")\n",
    "Output:\n",
    "\n",
    "World\n",
    "\\xhh: Represents a character with a hexadecimal value hh.\n",
    "\n",
    "Example:\n",
    "\n",
    "print(\"\\x48\\x65\\x6c\\x6c\\x6f\")  # This is equivalent to \"Hello\"\n",
    "Output:\n",
    "\n",
    "Hello\n",
    "These escape characters are useful for including special characters or controlling the formatting of strings in your code. "
   ]
  },
  {
   "cell_type": "raw",
   "id": "5f6ce1e4",
   "metadata": {},
   "source": [
    "2. What do the escape characters n and t stand for?\n",
    "==>\\n:\n",
    "\n",
    "The escape character \\n represents a newline character.\n",
    "When included in a string, it creates a line break, moving the cursor to the beginning of the next line.\n",
    "Example:\n",
    "\n",
    "\n",
    "print(\"Hello\\nWorld\")\n",
    "Output:\n",
    "\n",
    "Hello\n",
    "World\n",
    "\\t:\n",
    "\n",
    "The escape character \\t represents a tab character.\n",
    "When included in a string, it creates horizontal tab spaces, similar to pressing the \"Tab\" key on a keyboard.\n",
    "Example:\n",
    "\n",
    "\n",
    "print(\"Hello\\tWorld\")\n",
    "Output:\n",
    "\n",
    "Hello   World\n"
   ]
  },
  {
   "cell_type": "raw",
   "id": "7c550514",
   "metadata": {},
   "source": [
    "3. What is the way to include backslash characters in a string?\n",
    "==>\\\\: Represents a backslash character. It is used to escape the backslash itself.\n",
    "\n",
    "Example:\n",
    "\n",
    "print(\"This is a backslash: \\\\\")\n",
    "Output:\n",
    "\n",
    "This is a backslash: \\"
   ]
  },
  {
   "cell_type": "raw",
   "id": "18ce7ead",
   "metadata": {},
   "source": [
    "4. The string \"Howl's Moving Castle\" is a correct value. Why isn't the single quote character in the word Howl's not escaped a problem?\n",
    "\n",
    "==>The string title is defined using double quotes, which means the single quote in \"Howl's\" is treated as a regular character and does not conflict with the quotes used to define the string itself. This is a feature of Python's string handling that allows for easy inclusion of quotes within strings.\n",
    "\n",
    "If you wanted to use single quotes to define the string, you would need to escape the single quote in \"Howl's\" like this:\n",
    "\n",
    "title = 'Howl\\'s Moving Castle'\n"
   ]
  },
  {
   "cell_type": "raw",
   "id": "0dcfd0ba",
   "metadata": {},
   "source": [
    "5. How do you write a string of newlines if you don't want to use the n character?\n",
    "==>If you want to write a string with multiple newlines without using the \\n escape character, you can use triple quotes (''' or \"\"\") to create a multi-line string. This allows you to include line breaks directly in your string.\n",
    "\n",
    "Here's an example:\n"
   ]
  },
  {
   "cell_type": "code",
   "execution_count": 1,
   "id": "18765872",
   "metadata": {},
   "outputs": [
    {
     "name": "stdout",
     "output_type": "stream",
     "text": [
      "\n",
      "This is the first line.\n",
      "This is the second line.\n",
      "This is the third line.\n",
      "\n"
     ]
    }
   ],
   "source": [
    "multi_line_string = '''\n",
    "This is the first line.\n",
    "This is the second line.\n",
    "This is the third line.\n",
    "'''\n",
    "\n",
    "print(multi_line_string)"
   ]
  },
  {
   "cell_type": "code",
   "execution_count": null,
   "id": "6ed36e4b",
   "metadata": {},
   "outputs": [],
   "source": [
    "6. What are the values of the given expressions?\n",
    "'Hello, world!'[1]\n",
    "'Hello, world!'[0:5]\n",
    "'Hello, world!'[:5]\n",
    "'Hello, world!'[3:]\n"
   ]
  },
  {
   "cell_type": "code",
   "execution_count": 2,
   "id": "c9f83c2b",
   "metadata": {},
   "outputs": [
    {
     "data": {
      "text/plain": [
       "'e'"
      ]
     },
     "execution_count": 2,
     "metadata": {},
     "output_type": "execute_result"
    }
   ],
   "source": [
    "'Hello, world!'[1]"
   ]
  },
  {
   "cell_type": "code",
   "execution_count": 3,
   "id": "c58e24eb",
   "metadata": {},
   "outputs": [
    {
     "data": {
      "text/plain": [
       "'Hello'"
      ]
     },
     "execution_count": 3,
     "metadata": {},
     "output_type": "execute_result"
    }
   ],
   "source": [
    "'Hello, world!'[0:5]\n"
   ]
  },
  {
   "cell_type": "code",
   "execution_count": 4,
   "id": "6a52dca4",
   "metadata": {},
   "outputs": [
    {
     "data": {
      "text/plain": [
       "'Hello'"
      ]
     },
     "execution_count": 4,
     "metadata": {},
     "output_type": "execute_result"
    }
   ],
   "source": [
    "'Hello, world!'[:5]\n"
   ]
  },
  {
   "cell_type": "code",
   "execution_count": 5,
   "id": "45896292",
   "metadata": {},
   "outputs": [
    {
     "data": {
      "text/plain": [
       "'lo, world!'"
      ]
     },
     "execution_count": 5,
     "metadata": {},
     "output_type": "execute_result"
    }
   ],
   "source": [
    "'Hello, world!'[3:]\n"
   ]
  },
  {
   "cell_type": "code",
   "execution_count": null,
   "id": "9a08c471",
   "metadata": {},
   "outputs": [],
   "source": [
    "7. What are the values of the following expressions?\n",
    "'Hello'.upper()\n",
    "'Hello'.upper().isupper()\n",
    "'Hello'.upper().lower()"
   ]
  },
  {
   "cell_type": "code",
   "execution_count": 6,
   "id": "383ae84c",
   "metadata": {},
   "outputs": [
    {
     "data": {
      "text/plain": [
       "'HELLO'"
      ]
     },
     "execution_count": 6,
     "metadata": {},
     "output_type": "execute_result"
    }
   ],
   "source": [
    "'Hello'.upper()"
   ]
  },
  {
   "cell_type": "code",
   "execution_count": 7,
   "id": "c38ae300",
   "metadata": {},
   "outputs": [
    {
     "data": {
      "text/plain": [
       "True"
      ]
     },
     "execution_count": 7,
     "metadata": {},
     "output_type": "execute_result"
    }
   ],
   "source": [
    "'Hello'.upper().isupper()\n"
   ]
  },
  {
   "cell_type": "code",
   "execution_count": 8,
   "id": "3b0a4d44",
   "metadata": {},
   "outputs": [
    {
     "data": {
      "text/plain": [
       "'hello'"
      ]
     },
     "execution_count": 8,
     "metadata": {},
     "output_type": "execute_result"
    }
   ],
   "source": [
    "'Hello'.upper().lower()"
   ]
  },
  {
   "cell_type": "code",
   "execution_count": null,
   "id": "d44cf420",
   "metadata": {},
   "outputs": [],
   "source": [
    "8. What are the values of the following expressions?\n",
    "'Remember, remember, the fifth of July.'.split()\n",
    "'-'.join('There can only one.'.split())"
   ]
  },
  {
   "cell_type": "code",
   "execution_count": 9,
   "id": "d8bdfbbb",
   "metadata": {},
   "outputs": [
    {
     "data": {
      "text/plain": [
       "['Remember,', 'remember,', 'the', 'fifth', 'of', 'July.']"
      ]
     },
     "execution_count": 9,
     "metadata": {},
     "output_type": "execute_result"
    }
   ],
   "source": [
    "'Remember, remember, the fifth of July.'.split()"
   ]
  },
  {
   "cell_type": "code",
   "execution_count": 10,
   "id": "8fe577eb",
   "metadata": {},
   "outputs": [
    {
     "data": {
      "text/plain": [
       "'There-can-only-one.'"
      ]
     },
     "execution_count": 10,
     "metadata": {},
     "output_type": "execute_result"
    }
   ],
   "source": [
    "'-'.join('There can only one.'.split())"
   ]
  },
  {
   "cell_type": "raw",
   "id": "544be759",
   "metadata": {},
   "source": [
    "9. What are the methods for right-justifying, left-justifying, and centering a string?\n",
    "==>Right-justifying a String: The rjust() method is used to right-justify a string within a specified width by adding spaces to the left.\n",
    "\n",
    "Example:"
   ]
  },
  {
   "cell_type": "code",
   "execution_count": 11,
   "id": "e16a3664",
   "metadata": {},
   "outputs": [
    {
     "name": "stdout",
     "output_type": "stream",
     "text": [
      "     Hello\n"
     ]
    }
   ],
   "source": [
    "text = \"Hello\"\n",
    "justified_text = text.rjust(10)\n",
    "\n",
    "print(justified_text)\n"
   ]
  },
  {
   "cell_type": "raw",
   "id": "852e56f0",
   "metadata": {},
   "source": [
    "Left-justifying a String: The ljust() method is used to left-justify a string within a specified width by adding spaces to the right.\n",
    "\n",
    "Example:"
   ]
  },
  {
   "cell_type": "code",
   "execution_count": 12,
   "id": "16595cd2",
   "metadata": {},
   "outputs": [
    {
     "name": "stdout",
     "output_type": "stream",
     "text": [
      "Hello     \n"
     ]
    }
   ],
   "source": [
    "text = \"Hello\"\n",
    "justified_text = text.ljust(10)\n",
    "\n",
    "print(justified_text)\n"
   ]
  },
  {
   "cell_type": "raw",
   "id": "620d145b",
   "metadata": {},
   "source": [
    "Centering a String: The center() method is used to center a string within a specified width by adding equal spaces to the left and right.\n",
    "\n",
    "Example:"
   ]
  },
  {
   "cell_type": "code",
   "execution_count": 13,
   "id": "e8e22542",
   "metadata": {},
   "outputs": [
    {
     "name": "stdout",
     "output_type": "stream",
     "text": [
      "  Hello   \n"
     ]
    }
   ],
   "source": [
    "text = \"Hello\"\n",
    "centered_text = text.center(10)\n",
    "\n",
    "print(centered_text)\n"
   ]
  },
  {
   "cell_type": "raw",
   "id": "d52e87c3",
   "metadata": {},
   "source": [
    "In all of the above examples, the methods rjust(), ljust(), and center() take an argument that specifies the total width of the resulting string. If the string is already as wide or wider than the specified width, the original string is returned without modification."
   ]
  },
  {
   "cell_type": "raw",
   "id": "43525adf",
   "metadata": {},
   "source": [
    "10. What is the best way to remove whitespace characters from the start or end?\n",
    "==>The best way to remove whitespace characters from the start or end of a string in Python is to use the strip() method. This method removes leading (at the start) and trailing (at the end) whitespace characters from a string.\n",
    "\n",
    "You can also use lstrip() to remove leading spaces or rstrip() to remove trailing spaces specifically.\n",
    "\n",
    "Here's an example:\n",
    "\n"
   ]
  },
  {
   "cell_type": "code",
   "execution_count": 14,
   "id": "cdd79e60",
   "metadata": {},
   "outputs": [
    {
     "name": "stdout",
     "output_type": "stream",
     "text": [
      "Hello\n"
     ]
    }
   ],
   "source": [
    "text = \"   Hello   \"\n",
    "stripped_text = text.strip()\n",
    "\n",
    "print(stripped_text)"
   ]
  },
  {
   "cell_type": "code",
   "execution_count": 15,
   "id": "21a09463",
   "metadata": {},
   "outputs": [
    {
     "name": "stdout",
     "output_type": "stream",
     "text": [
      "Hello   \n",
      "   Hello\n"
     ]
    }
   ],
   "source": [
    "\n",
    "text = \"   Hello   \"\n",
    "left_stripped_text = text.lstrip()\n",
    "right_stripped_text = text.rstrip()\n",
    "\n",
    "print(left_stripped_text)  # Output: \"Hello   \"\n",
    "print(right_stripped_text)  # Output: \"   Hello\""
   ]
  },
  {
   "cell_type": "code",
   "execution_count": null,
   "id": "e244f326",
   "metadata": {},
   "outputs": [],
   "source": []
  }
 ],
 "metadata": {
  "kernelspec": {
   "display_name": "Python 3 (ipykernel)",
   "language": "python",
   "name": "python3"
  },
  "language_info": {
   "codemirror_mode": {
    "name": "ipython",
    "version": 3
   },
   "file_extension": ".py",
   "mimetype": "text/x-python",
   "name": "python",
   "nbconvert_exporter": "python",
   "pygments_lexer": "ipython3",
   "version": "3.9.7"
  }
 },
 "nbformat": 4,
 "nbformat_minor": 5
}
