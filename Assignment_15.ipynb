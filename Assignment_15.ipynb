{
 "cells": [
  {
   "cell_type": "code",
   "execution_count": null,
   "id": "fca399c5",
   "metadata": {},
   "outputs": [],
   "source": []
  },
  {
   "cell_type": "markdown",
   "id": "84def5c2",
   "metadata": {},
   "source": [
    "1.How many seconds are in an hour? Use the interactive interpreter as a calculator and multiply the number of seconds in a minute (60) by the number of minutes in an hour (also 60).\n",
    "sol. 60 \n",
    "==>To calculate the number of seconds in an hour, you can use the interactive interpreter as follows:"
   ]
  },
  {
   "cell_type": "code",
   "execution_count": 1,
   "id": "4eed8f8b",
   "metadata": {},
   "outputs": [
    {
     "name": "stdout",
     "output_type": "stream",
     "text": [
      "3600\n"
     ]
    }
   ],
   "source": [
    "seconds_in_an_hour = 60 * 60\n",
    "\n",
    "# Print the result\n",
    "print(seconds_in_an_hour)"
   ]
  },
  {
   "cell_type": "code",
   "execution_count": null,
   "id": "4af61998",
   "metadata": {},
   "outputs": [],
   "source": [
    "2. Assign the result from the previous task (seconds in an hour) to a variable called seconds_per_hour.\n",
    "==>\n",
    "seconds_per_hour = 60 * 60\n",
    "\n",
    "print(seconds_per_hour)"
   ]
  },
  {
   "cell_type": "markdown",
   "id": "e5c18f1a",
   "metadata": {},
   "source": [
    "3. How many seconds do you think there are in a day? Make use of the variables seconds per hour and minutes per hour.\n",
    "==>\n",
    "To calculate the number of seconds in a day, you can use the variables for seconds per hour and minutes per hour. Here's the calculation:"
   ]
  },
  {
   "cell_type": "code",
   "execution_count": 2,
   "id": "d334f982",
   "metadata": {},
   "outputs": [
    {
     "name": "stdout",
     "output_type": "stream",
     "text": [
      "86400\n"
     ]
    }
   ],
   "source": [
    "# Define variables\n",
    "seconds_per_minute = 60\n",
    "minutes_per_hour = 60\n",
    "\n",
    "# Calculate seconds per hour\n",
    "seconds_per_hour = seconds_per_minute * minutes_per_hour\n",
    "\n",
    "# Calculate seconds in a day\n",
    "seconds_in_a_day = seconds_per_hour * 24\n",
    "\n",
    "# Print the result\n",
    "print(seconds_in_a_day)\n"
   ]
  },
  {
   "cell_type": "code",
   "execution_count": null,
   "id": "dd27c926",
   "metadata": {},
   "outputs": [],
   "source": [
    "4. Calculate seconds per day again, but this time save the result in a variable called seconds_per_day\n",
    "==>\n",
    "# Define variables\n",
    "seconds_per_minute = 60\n",
    "minutes_per_hour = 60\n",
    "\n",
    "# Calculate seconds per hour\n",
    "seconds_per_hour = seconds_per_minute * minutes_per_hour\n",
    "\n",
    "# Calculate seconds in a day\n",
    "seconds_per_day = seconds_per_hour * 24\n",
    "\n",
    "# Print the result\n",
    "print(seconds_per_day)\n"
   ]
  },
  {
   "cell_type": "markdown",
   "id": "5b3fbd50",
   "metadata": {},
   "source": [
    "5. Divide seconds_per_day by seconds_per_hour. Use floating-point (/) division.\n"
   ]
  },
  {
   "cell_type": "code",
   "execution_count": 3,
   "id": "40a93963",
   "metadata": {},
   "outputs": [
    {
     "name": "stdout",
     "output_type": "stream",
     "text": [
      "24.0\n"
     ]
    }
   ],
   "source": [
    "# Previous calculations\n",
    "seconds_per_minute = 60\n",
    "minutes_per_hour = 60\n",
    "seconds_per_hour = seconds_per_minute * minutes_per_hour\n",
    "seconds_in_a_day = seconds_per_hour * 24\n",
    "\n",
    "# Divide seconds_in_a_day by seconds_per_hour using floating-point division\n",
    "result = seconds_in_a_day / seconds_per_hour\n",
    "\n",
    "# Print the result\n",
    "print(result)"
   ]
  },
  {
   "cell_type": "markdown",
   "id": "261185a3",
   "metadata": {},
   "source": [
    "6. Divide seconds_per_day by seconds_per_hour, using integer (//) division. Did this number agree with the floating-point value from the previous question, aside from the final .0?\n",
    "==>\n",
    "The result will be 24 because integer division (//) discards the decimal part and returns only the whole number.\n",
    "\n",
    "In this case, the result of integer division agrees with the floating-point division result (24.0) from the previous question, aside from the final .0. The agreement is expected because the number of hours in a day is a whole number."
   ]
  },
  {
   "cell_type": "code",
   "execution_count": 4,
   "id": "e469aef7",
   "metadata": {},
   "outputs": [
    {
     "name": "stdout",
     "output_type": "stream",
     "text": [
      "24\n"
     ]
    }
   ],
   "source": [
    "# Previous calculations\n",
    "seconds_per_minute = 60\n",
    "minutes_per_hour = 60\n",
    "seconds_per_hour = seconds_per_minute * minutes_per_hour\n",
    "seconds_in_a_day = seconds_per_hour * 24\n",
    "\n",
    "# Divide seconds_in_a_day by seconds_per_hour using integer division\n",
    "result_integer_division = seconds_in_a_day // seconds_per_hour\n",
    "\n",
    "# Print the result\n",
    "print(result_integer_division)\n"
   ]
  },
  {
   "cell_type": "markdown",
   "id": "7afcb5c4",
   "metadata": {},
   "source": [
    "7. Write a generator, genPrimes, that returns the sequence of prime numbers on successive calls to its next() method: 2, 3, 5, 7, 11, ...\n",
    "==>\n"
   ]
  },
  {
   "cell_type": "code",
   "execution_count": 5,
   "id": "73681fa4",
   "metadata": {},
   "outputs": [
    {
     "name": "stdout",
     "output_type": "stream",
     "text": [
      "2\n",
      "3\n",
      "5\n",
      "7\n",
      "11\n"
     ]
    }
   ],
   "source": [
    "def genPrimes():\n",
    "    primes = []  # A list to store prime numbers\n",
    "    yield 2      # The first prime number\n",
    "\n",
    "    candidate = 3\n",
    "    while True:\n",
    "        is_prime = all(candidate % prime != 0 for prime in primes)\n",
    "        if is_prime:\n",
    "            primes.append(candidate)\n",
    "            yield candidate\n",
    "        candidate += 2  # Move to the next odd number\n",
    "\n",
    "# Example usage\n",
    "primes_generator = genPrimes()\n",
    "\n",
    "# Get the first few prime numbers\n",
    "print(next(primes_generator))  # 2\n",
    "print(next(primes_generator))  # 3\n",
    "print(next(primes_generator))  # 5\n",
    "print(next(primes_generator))  # 7\n",
    "print(next(primes_generator))  # 11\n",
    "# You can continue calling next() to get more prime numbers\n"
   ]
  },
  {
   "cell_type": "code",
   "execution_count": null,
   "id": "a4e216d0",
   "metadata": {},
   "outputs": [],
   "source": []
  }
 ],
 "metadata": {
  "kernelspec": {
   "display_name": "Python 3 (ipykernel)",
   "language": "python",
   "name": "python3"
  },
  "language_info": {
   "codemirror_mode": {
    "name": "ipython",
    "version": 3
   },
   "file_extension": ".py",
   "mimetype": "text/x-python",
   "name": "python",
   "nbconvert_exporter": "python",
   "pygments_lexer": "ipython3",
   "version": "3.9.7"
  }
 },
 "nbformat": 4,
 "nbformat_minor": 5
}
