{
 "cells": [
  {
   "cell_type": "raw",
   "id": "06990a07",
   "metadata": {},
   "source": [
    "1. What does an empty dictionary's code look like?\n",
    "==>An empty dictionary in Python is represented by a pair of curly braces {}. Here's what it looks like in code:\n",
    "empty_dict = {}\n"
   ]
  },
  {
   "cell_type": "raw",
   "id": "f921d83f",
   "metadata": {},
   "source": [
    "2. What is the value of a dictionary value with the key 'foo' and the value 42?\n",
    "\n",
    "==>my_dict = {'foo': 42}\n",
    "In this dictionary, the key 'foo' is associated with the value 42. So, if you access my_dict['foo'], it will return 42\n"
   ]
  },
  {
   "cell_type": "raw",
   "id": "557bebe0",
   "metadata": {},
   "source": [
    "3. What is the most significant distinction between a dictionary and a list?\n",
    "==>\n",
    "The most significant distinction between a dictionary and a list in Python lies in how they store and retrieve data:\n",
    "\n",
    "Ordering:\n",
    "\n",
    "List:\n",
    "\n",
    "Lists are ordered collections of elements. This means that the elements in a list have a specific order, and you can access them by their position (index) within the list.\n",
    "Indexing starts from 0 for the first element.\n",
    "Dictionary:\n",
    "\n",
    "Dictionaries are unordered collections of key-value pairs. This means that the elements in a dictionary are not stored in any particular order, and you cannot access them by position.\n",
    "Instead, you access the values by providing the associated key.\n",
    "Accessing Elements:\n",
    "\n",
    "List:\n",
    "\n",
    "Elements in a list are accessed using integer indices.\n",
    "Example:\n",
    "\n",
    "my_list = [1, 2, 3]\n",
    "print(my_list[0])  # Output: 1\n",
    "Dictionary:\n",
    "\n",
    "Values in a dictionary are accessed using keys, which can be of various data types (e.g., strings, integers, etc.).\n",
    "Example:\n",
    "\n",
    "\n",
    "my_dict = {'key1': 'value1', 'key2': 'value2'}\n",
    "print(my_dict['key1'])  # Output: 'value1'\n",
    "Mutability:\n",
    "\n",
    "List:\n",
    "\n",
    "Lists are mutable, meaning you can change the elements after the list is created. You can modify, add, or remove elements from a list.\n",
    "Dictionary:\n",
    "\n",
    "Dictionaries are also mutable. You can modify, add, or remove key-value pairs from a dictionary after it is created.\n",
    "Representation:\n",
    "\n",
    "List:\n",
    "\n",
    "Lists are represented by square brackets [ ].\n",
    "Dictionary:\n",
    "\n",
    "Dictionaries are represented by curly braces { } and key-value pairs separated by colons (:).\n",
    "Example:\n",
    "\n",
    "\n",
    "my_list = [1, 2, 3]\n",
    "my_dict = {'key1': 'value1', 'key2': 'value2'}\n",
    "Use Cases:\n",
    "\n",
    "List:\n",
    "\n",
    "Use lists when you have a collection of items that need to be maintained in a specific order or when you want to access elements by their position.\n",
    "Dictionary:\n",
    "\n",
    "Use dictionaries when you have a set of unique keys and associated values. Dictionaries are ideal for looking up values based on a specific key."
   ]
  },
  {
   "cell_type": "code",
   "execution_count": null,
   "id": "ae2c535a",
   "metadata": {},
   "outputs": [],
   "source": [
    "4. What happens if you try to access spam['foo'] if spam is {'bar': 100}?\n",
    "\n",
    "==>KeyError: 'foo'"
   ]
  },
  {
   "cell_type": "code",
   "execution_count": 1,
   "id": "efd61f4f",
   "metadata": {},
   "outputs": [
    {
     "ename": "KeyError",
     "evalue": "'foo'",
     "output_type": "error",
     "traceback": [
      "\u001b[1;31m---------------------------------------------------------------------------\u001b[0m",
      "\u001b[1;31mKeyError\u001b[0m                                  Traceback (most recent call last)",
      "\u001b[1;32m~\\AppData\\Local\\Temp/ipykernel_10572/1112761422.py\u001b[0m in \u001b[0;36m<module>\u001b[1;34m\u001b[0m\n\u001b[0;32m      1\u001b[0m \u001b[0mspam\u001b[0m\u001b[1;33m=\u001b[0m \u001b[1;33m{\u001b[0m\u001b[1;34m'bar'\u001b[0m\u001b[1;33m:\u001b[0m \u001b[1;36m100\u001b[0m\u001b[1;33m}\u001b[0m\u001b[1;33m\u001b[0m\u001b[1;33m\u001b[0m\u001b[0m\n\u001b[1;32m----> 2\u001b[1;33m \u001b[0mspam\u001b[0m\u001b[1;33m[\u001b[0m\u001b[1;34m'foo'\u001b[0m\u001b[1;33m]\u001b[0m\u001b[1;33m\u001b[0m\u001b[1;33m\u001b[0m\u001b[0m\n\u001b[0m",
      "\u001b[1;31mKeyError\u001b[0m: 'foo'"
     ]
    }
   ],
   "source": [
    "spam= {'bar': 100}\n",
    "spam['foo']"
   ]
  },
  {
   "cell_type": "raw",
   "id": "558a3921",
   "metadata": {},
   "source": [
    "5. If a dictionary is stored in spam, what is the difference between the expressions 'cat' in spam and 'cat' in spam.keys()?\n",
    "==>\n",
    "'cat' in spam:\n",
    "\n",
    "This expression checks if the string 'cat' is a key in the dictionary spam. It will return True if 'cat' is one of the keys in the dictionary, and False otherwise.\n",
    "\n",
    "Example:"
   ]
  },
  {
   "cell_type": "code",
   "execution_count": 2,
   "id": "bb8f4b56",
   "metadata": {},
   "outputs": [
    {
     "name": "stdout",
     "output_type": "stream",
     "text": [
      "True\n"
     ]
    }
   ],
   "source": [
    "spam = {'cat': 42, 'dog': 10, 'bird': 5}\n",
    "print('cat' in spam)  # Output: True\n"
   ]
  },
  {
   "cell_type": "raw",
   "id": "d5ff19a9",
   "metadata": {},
   "source": [
    "'cat' in spam.keys():\n",
    "\n",
    "This expression checks if the string 'cat' is a key in the dictionary spam by explicitly accessing the keys using the keys() method. It has the same result as 'cat' in spam.\n",
    "\n",
    "Example:"
   ]
  },
  {
   "cell_type": "code",
   "execution_count": 3,
   "id": "c8d878d6",
   "metadata": {},
   "outputs": [
    {
     "name": "stdout",
     "output_type": "stream",
     "text": [
      "True\n"
     ]
    }
   ],
   "source": [
    "spam = {'cat': 42, 'dog': 10, 'bird': 5}\n",
    "print('cat' in spam.keys())  # Output: True\n"
   ]
  },
  {
   "cell_type": "raw",
   "id": "09d39732",
   "metadata": {},
   "source": [
    "6. If a dictionary is stored in spam, what is the difference between the expressions 'cat' in spam and 'cat' in spam.values()?\n",
    "==>\n",
    "'cat' in spam:\n",
    "\n",
    "This expression checks if the string 'cat' is a key in the dictionary spam. It will return True if 'cat' is one of the keys in the dictionary, and False otherwise.\n",
    "\n",
    "Example:\n",
    "\n",
    "python\n",
    "Copy code\n",
    "spam = {'cat': 42, 'dog': 10, 'bird': 5}\n",
    "print('cat' in spam)  # Output: True"
   ]
  },
  {
   "cell_type": "raw",
   "id": "361caae5",
   "metadata": {},
   "source": [
    "'cat' in spam.values():\n",
    "\n",
    "This expression checks if the string 'cat' is a value in the dictionary spam by explicitly accessing the values using the values() method. It will return True if 'cat' is one of the values in the dictionary, and False otherwise.\n",
    "\n",
    "Example:"
   ]
  },
  {
   "cell_type": "code",
   "execution_count": 4,
   "id": "a9ab911e",
   "metadata": {},
   "outputs": [
    {
     "name": "stdout",
     "output_type": "stream",
     "text": [
      "False\n"
     ]
    }
   ],
   "source": [
    "spam = {'cat': 42, 'dog': 10, 'bird': 5}\n",
    "print('cat' in spam.values())  # Output: False\n"
   ]
  },
  {
   "cell_type": "code",
   "execution_count": null,
   "id": "3bda904b",
   "metadata": {},
   "outputs": [],
   "source": [
    "7. What is a shortcut for the following code?\n",
    "if 'color' not in spam:\n",
    "spam['color'] = 'black'"
   ]
  },
  {
   "cell_type": "raw",
   "id": "b1a9c7c2",
   "metadata": {},
   "source": [
    "==>\n",
    "The shortcut for the given code is to use the setdefault() method:\n",
    "\n",
    "\n",
    "spam.setdefault('color', 'black')\n",
    "This line of code checks if the key 'color' is already present in the spam dictionary. If it is, it returns the corresponding value. If not, it sets the key 'color' with the value 'black'. This achieves the same result as the original code you provided."
   ]
  },
  {
   "cell_type": "raw",
   "id": "312fbdf0",
   "metadata": {},
   "source": [
    "8. How do you \"pretty print\" dictionary values using which module and function?\n",
    "==>\n",
    "To \"pretty print\" dictionary values in Python, you can use the pprint module, specifically the pprint() function from that module.\n",
    "\n",
    "Here's how you can do it:\n"
   ]
  },
  {
   "cell_type": "code",
   "execution_count": 7,
   "id": "e5b2d5f7",
   "metadata": {},
   "outputs": [
    {
     "name": "stdout",
     "output_type": "stream",
     "text": [
      "{'key1': {'nested_key1': 'value1', 'nested_key2': 'value2'}, 'key2': [1, 2, 3]}\n"
     ]
    }
   ],
   "source": [
    "import pprint\n",
    "\n",
    "my_dict = {'key1': {'nested_key1': 'value1', 'nested_key2': 'value2'}, 'key2': [1, 2, 3]}\n",
    "\n",
    "pprint.pprint(my_dict)\n"
   ]
  },
  {
   "cell_type": "code",
   "execution_count": null,
   "id": "82080b0e",
   "metadata": {},
   "outputs": [],
   "source": []
  }
 ],
 "metadata": {
  "kernelspec": {
   "display_name": "Python 3 (ipykernel)",
   "language": "python",
   "name": "python3"
  },
  "language_info": {
   "codemirror_mode": {
    "name": "ipython",
    "version": 3
   },
   "file_extension": ".py",
   "mimetype": "text/x-python",
   "name": "python",
   "nbconvert_exporter": "python",
   "pygments_lexer": "ipython3",
   "version": "3.9.7"
  }
 },
 "nbformat": 4,
 "nbformat_minor": 5
}
