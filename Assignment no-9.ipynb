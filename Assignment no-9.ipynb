{
 "cells": [
  {
   "cell_type": "markdown",
   "id": "63f70783",
   "metadata": {},
   "source": [
    "1. To what does a relative path refer?\n",
    "==>A relative path refers to the location of a file or directory in relation to the current working directory. In other words, it specifies the path to a file or directory starting from the current directory, rather than from the root directory of the file system.\n",
    "\n",
    "For example, if you have a file called \"myfile.txt\" located in a directory called \"documents\" that is inside the current working directory, the relative path to \"myfile.txt\" would be something like \"./documents/myfile.txt\" (assuming that \".\" represents the current directory).\n",
    "\n",
    "Relative paths are useful because they allow you to specify file locations in a way that is independent of the specific file system or operating system you are using. This makes it easier to move and share files and directories between different environments."
   ]
  },
  {
   "cell_type": "markdown",
   "id": "0db0458a",
   "metadata": {},
   "source": [
    "2. What does an absolute path start with your operating system?\n",
    "==>\n",
    "An absolute path in a file system, regardless of the operating system, starts with the root directory. In most operating systems, including Windows, Linux, and macOS, the root directory is represented by a forward slash (\"/\") in the file path.\n",
    "\n",
    "For example:\n",
    "\n",
    "In Linux or macOS: /home/user/documents/myfile.txt\n",
    "In Windows: C:\\Users\\User\\Documents\\myfile.txt\n",
    "In these examples, the paths start from the root directory (\"/\" in Linux/macOS and \"C:\\\" in Windows) and specify the full directory structure needed to locate the file \"myfile.txt\".\n",
    "\n",
    "Absolute paths are not dependent on the current working directory and provide an explicit and unambiguous reference to the location of a file or directory within the file system"
   ]
  },
  {
   "cell_type": "markdown",
   "id": "9103eb57",
   "metadata": {},
   "source": [
    "3. What do the functions os.getcwd() and os.chdir() do?\n",
    "==>\n",
    "The functions os.getcwd() and os.chdir() are Python functions provided by the os module, which stands for operating system. They are used for working with the file system and the current working directory of a Python script.\n",
    "\n",
    "os.getcwd(): This function stands for \"get current working directory\". It returns a string representing the current working directory of the Python script. The current working directory is the directory in which the Python script is being executed.\n",
    "\n",
    "For example:\n",
    "\n",
    "import os\n",
    "current_directory = os.getcwd()\n",
    "print(current_directory)\n",
    "This will print out the current working directory.\n",
    "\n",
    "os.chdir(path): This function stands for \"change directory\". It is used to change the current working directory to the specified path.\n",
    "\n",
    "For example:\n",
    "\n",
    "import os\n",
    "os.chdir('/path/to/new/directory')\n",
    "This will change the current working directory to the specified path.\n",
    "\n",
    "These functions are useful for navigating and working with files and directories within a Python script. They allow you to interact with the file system, create, delete, and manage files, and perform various operations within specific directories."
   ]
  },
  {
   "cell_type": "markdown",
   "id": "932afb12",
   "metadata": {},
   "source": [
    "4. What are the . and .. folders?\n",
    "==>\n",
    ". (dot):\n",
    "\n",
    "In a file system, a single dot (.) represents the current directory. It is a reference to the directory you are currently in.\n",
    "For example, if you are in the directory /home/user/documents, then . refers to the /home/user/documents directory itself.\n",
    "\n",
    ".. (dot-dot):\n",
    "\n",
    "The double dot (..) represents the parent directory of the current directory. It allows you to navigate up one level in the directory hierarchy.\n",
    "For example, if you are in the directory /home/user/documents, then .. refers to the /home/user directory.\n",
    "These special folders are commonly used in command-line interfaces and when working with file paths to navigate the file system. For example, if you want to refer to a file in the parent directory of the current directory, you can use ../filename to specify the path."
   ]
  },
  {
   "cell_type": "markdown",
   "id": "5e933703",
   "metadata": {},
   "source": [
    "5. In C:\\bacon\\eggs\\spam.txt, which part is the dir name, and which part is the base name?\n",
    "==>\n",
    "\n",
    "In the file path C:\\bacon\\eggs\\spam.txt:\n",
    "\n",
    "The directory name (dir name) is C:\\bacon\\eggs. This is the path to the directory that contains the file spam.txt.\n",
    "The base name is spam.txt. This is the actual name of the file itself, excluding the directory path.\n",
    "So, in this example, \"bacon\\eggs\" is the directory path leading to the file, and \"spam.txt\" is the name of the file."
   ]
  },
  {
   "cell_type": "markdown",
   "id": "db57a84e",
   "metadata": {},
   "source": [
    "6. What are the three “mode” arguments that can be passed to the open() function?\n",
    "\n",
    "==>\n",
    "\n",
    "The open() function in Python is used to open files. It takes two arguments: the file path and the mode in which you want to open the file. The three common mode arguments are:\n",
    "\n",
    "'r' - Read mode:\n",
    "\n",
    "This mode is used when you want to read the contents of a file.\n",
    "Example: open('myfile.txt', 'r')\n",
    "'w' - Write mode:\n",
    "\n",
    "This mode is used when you want to write to a file. If the file already exists, it will be overwritten. If the file does not exist, a new one will be created.\n",
    "Example: open('myfile.txt', 'w')\n",
    "'a' - Append mode:\n",
    "\n",
    "This mode is used when you want to add data to the end of an existing file. If the file does not exist, a new one will be created.\n",
    "Example: open('myfile.txt', 'a')\n",
    "Additionally, there are variations of these modes:\n",
    "\n",
    "'rb' - Read mode in binary (for reading non-text files like images or binary data).\n",
    "'wb' - Write mode in binary (for writing non-text data).\n",
    "'ab' - Append mode in binary (for appending binary data to a file)."
   ]
  },
  {
   "cell_type": "markdown",
   "id": "aac348de",
   "metadata": {},
   "source": [
    "7. What happens if an existing file is opened in write mode?\n",
    "==>\n",
    "If you open an existing file in write mode ('w'), the following will happen:\n",
    "\n",
    "If the file exists:\n",
    "\n",
    "The contents of the existing file will be truncated (i.e., erased) and the file will be considered empty.\n",
    "The file pointer will be positioned at the beginning of the file.\n",
    "If you start writing data to the file, it will overwrite any existing content.\n",
    "If the file does not exist:\n",
    "\n",
    "A new file with the specified name will be created.\n",
    "It's important to exercise caution when using write mode ('w') because any existing data in the file will be permanently lost. If you want to append data to the end of an existing file without overwriting its contents, you should use append mode ('a') instead."
   ]
  },
  {
   "cell_type": "markdown",
   "id": "22606374",
   "metadata": {},
   "source": [
    "8. How do you tell the difference between read() and readlines()?\n",
    "==>read():\n",
    "\n",
    "The read() method reads the entire contents of the file as a single string, including newline characters (\\n).\n",
    "If you do not specify a parameter, read() will read the entire file. Alternatively, you can pass an argument to specify the number of characters to read.\n",
    "Example:\n",
    "\n",
    "with open('myfile.txt', 'r') as file:\n",
    "    content = file.read()\n",
    "readlines():\n",
    "\n",
    "The readlines() method reads the entire file line by line and returns a list where each element is a line from the file.\n",
    "Each line in the list will include the newline character (\\n) at the end.\n",
    "Example:\n",
    "\n",
    "with open('myfile.txt', 'r') as file:\n",
    "    lines = file.readlines()"
   ]
  },
  {
   "cell_type": "code",
   "execution_count": null,
   "id": "ad0e97a3",
   "metadata": {},
   "outputs": [],
   "source": [
    "9. What data structure does a shelf value resemble?\n",
    "==>A shelf value in Python, as provided by the shelve module, resembles a dictionary. \n",
    "It allows you to store and retrieve key-value pairs, similar to a dictionary where you use keys to access corresponding values.\n",
    "\n",
    "The shelve module provides a persistent dictionary-like object. It uses a database file on the disk to store the data, \n",
    "allowing you to persistently store and retrieve data across different program executions.\n",
    "\n",
    "Here's an example of how you might use shelve:\n",
    "\n",
    "import shelve\n",
    "\n",
    "# Open a shelf file\n",
    "shelf = shelve.open('my_shelf')\n",
    "\n",
    "# Add data\n",
    "shelf['key1'] = 'value1'\n",
    "shelf['key2'] = [1, 2, 3]\n",
    "shelf['key3'] = {'a': 10, 'b': 20}\n",
    "\n",
    "# Retrieve data\n",
    "value1 = shelf['key1']\n",
    "value2 = shelf['key2']\n",
    "\n",
    "# Close the shelf file\n",
    "shelf.close()\n",
    "In this example, you can see that shelf behaves like a dictionary where you can assign values to keys and retrieve them later.\n",
    "However, unlike a regular dictionary, the data is persistently stored in a file on the disk. This means that you can close your\n",
    "program and reopen it later to access the same data."
   ]
  },
  {
   "cell_type": "code",
   "execution_count": null,
   "id": "6dd01839",
   "metadata": {},
   "outputs": [],
   "source": []
  },
  {
   "cell_type": "code",
   "execution_count": null,
   "id": "bd27507b",
   "metadata": {},
   "outputs": [],
   "source": []
  }
 ],
 "metadata": {
  "kernelspec": {
   "display_name": "Python 3 (ipykernel)",
   "language": "python",
   "name": "python3"
  },
  "language_info": {
   "codemirror_mode": {
    "name": "ipython",
    "version": 3
   },
   "file_extension": ".py",
   "mimetype": "text/x-python",
   "name": "python",
   "nbconvert_exporter": "python",
   "pygments_lexer": "ipython3",
   "version": "3.9.7"
  }
 },
 "nbformat": 4,
 "nbformat_minor": 5
}
