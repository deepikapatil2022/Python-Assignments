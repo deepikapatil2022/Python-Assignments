{
 "cells": [
  {
   "cell_type": "markdown",
   "id": "00f19915",
   "metadata": {},
   "source": [
    "1. In what modes should the PdfFileReader() and PdfFileWriter() File objects will be opened?\n",
    "==>\n",
    "When using the PyPDF2 library in Python to work with PDF files, you do not need to explicitly open the PDF files using open() as you would with regular text files. Instead, you pass the file paths to PdfFileReader() and PdfFileWriter() directly.\n",
    "\n",
    "Here's an example:"
   ]
  },
  {
   "cell_type": "code",
   "execution_count": null,
   "id": "26aa9b77",
   "metadata": {},
   "outputs": [],
   "source": [
    "import PyPDF2\n",
    "\n",
    "# Reading a PDF file\n",
    "pdf_reader = PyPDF2.PdfFileReader('example.pdf')\n",
    "\n",
    "# Creating a PDF writer object\n",
    "pdf_writer = PyPDF2.PdfFileWriter()\n"
   ]
  },
  {
   "cell_type": "markdown",
   "id": "9932cbad",
   "metadata": {},
   "source": [
    "In this example, the example.pdf file is used as input for the PdfFileReader() constructor, and a new PdfFileWriter() object is created. There is no need to specify a mode for opening the files.\n",
    "\n",
    "The PdfFileReader() object is used to read the contents of an existing PDF file, and the PdfFileWriter() object is used to create a new PDF file or modify an existing one.\n",
    "\n",
    "If you need to write to a PDF file, you would use the PdfFileWriter() object to create a new PDF or modify an existing one, and then save it using the write() method."
   ]
  },
  {
   "cell_type": "markdown",
   "id": "afc0af0a",
   "metadata": {},
   "source": [
    "pdf_writer.write(open('new_file.pdf', 'wb'))\n",
    "In this example, the write() method is used to save the modifications made using the PdfFileWriter() object to a new PDF file named new_file.pdf. The file is opened in binary write mode ('wb')."
   ]
  },
  {
   "cell_type": "markdown",
   "id": "1f75b595",
   "metadata": {},
   "source": [
    "2. From a PdfFileReader object, how do you get a Page object for page 5?\n",
    "==>To get a Page object for page 5 from a PdfFileReader object, you can use the getPage() method and pass the page number (0-based index) as an argument. In this case, to get the Page object for page 5, you would use:\n",
    "\n",
    "page = pdf_reader.getPage(4)\n",
    "In this example, pdf_reader is assumed to be a PdfFileReader object. The getPage() method is called with an argument of 4, which corresponds to the 0-based index for the fifth page in the PDF.\n",
    "\n",
    "Now, the page variable contains the Page object for page 5. You can perform various operations on this page, such as extracting text or making modifications."
   ]
  },
  {
   "cell_type": "markdown",
   "id": "12311689",
   "metadata": {},
   "source": [
    "3. What PdfFileReader variable stores the number of pages in the PDF document?\n",
    "==>The PdfFileReader variable that stores the number of pages in the PDF document is numPages.\n",
    "\n",
    "For example, if you have a PdfFileReader object called pdf_reader, you can retrieve the number of pages in the PDF document using:\n",
    "\n",
    "num_pages = pdf_reader.numPages\n",
    "The numPages variable is an attribute of the PdfFileReader object and provides the total number of pages in the PDF document. Keep in mind that page numbering starts from 0, so the last page in the document will have an index of numPages - 1."
   ]
  },
  {
   "cell_type": "markdown",
   "id": "5c62a5c1",
   "metadata": {},
   "source": [
    "4. If a PdfFileReader object’s PDF is encrypted with the password swordfish, what must you do before you can obtain Page objects from it?\n",
    "==>If a PdfFileReader object's PDF is encrypted with the password \"swordfish,\" you must provide the correct password before you can obtain Page objects from it. To do this, you need to use the decrypt() method.\n",
    "\n",
    "Here's an example:"
   ]
  },
  {
   "cell_type": "code",
   "execution_count": null,
   "id": "0472a4d2",
   "metadata": {},
   "outputs": [],
   "source": [
    "pdf_reader = PyPDF2.PdfFileReader('encrypted_pdf.pdf')\n",
    "pdf_reader.decrypt('swordfish')\n",
    "\n",
    "num_pages = pdf_reader.numPages\n",
    "page = pdf_reader.getPage(0)\n"
   ]
  },
  {
   "cell_type": "markdown",
   "id": "a2d626b6",
   "metadata": {},
   "source": [
    "In this example:\n",
    "\n",
    "pdf_reader is created using the PdfFileReader() constructor with the file path 'encrypted_pdf.pdf'.\n",
    "\n",
    "The decrypt() method is called with the correct password 'swordfish'.\n",
    "\n",
    "After successful decryption, you can now work with the PDF file, including obtaining Page objects using methods like numPages and getPage()."
   ]
  },
  {
   "cell_type": "code",
   "execution_count": null,
   "id": "25fe540b",
   "metadata": {},
   "outputs": [],
   "source": [
    "5. What methods do you use to rotate a page?\n",
    "==>To rotate a page using the PyPDF2 library in Python, you can use the rotateClockwise() and rotateCounterClockwise()\n",
    "methods of a Page object.\n",
    "\n",
    "Here's an example of how to use these methods:\n",
    "\n",
    "import PyPDF2\n",
    "\n",
    "# Open the PDF file\n",
    "with open('input.pdf', 'rb') as file:\n",
    "    pdf_reader = PyPDF2.PdfFileReader(file)\n",
    "    pdf_writer = PyPDF2.PdfFileWriter()\n",
    "\n",
    "    # Rotate the first page clockwise (90 degrees)\n",
    "    page = pdf_reader.getPage(0)\n",
    "    page.rotateClockwise(90)\n",
    "\n",
    "    # Add the rotated page to the writer\n",
    "    pdf_writer.addPage(page)\n",
    "\n",
    "    # Add the rest of the pages (unchanged) to the writer\n",
    "    for i in range(1, pdf_reader.getNumPages()):\n",
    "        pdf_writer.addPage(pdf_reader.getPage(i))\n",
    "\n",
    "    # Save the modified PDF to a new file\n",
    "    with open('output.pdf', 'wb') as output_file:\n",
    "        pdf_writer.write(output_file)"
   ]
  },
  {
   "cell_type": "markdown",
   "id": "28d7939c",
   "metadata": {},
   "source": [
    "6. What is the difference between a Run object and a Paragraph object?\n",
    "==>\n",
    "In the context of working with Microsoft Word documents using the python-docx library, a \"Run\" object and a \"Paragraph\" object are two distinct elements used to represent different parts of the text in a document.\n",
    "\n",
    "Run Object:\n",
    "\n",
    "A \"Run\" object in python-docx represents a contiguous run of text in a paragraph that has the same formatting. It's the smallest unit of text manipulation in a Word document.\n",
    "\n",
    "A Run object can contain a portion of a paragraph, a single word, or even a single character. For example, if a paragraph contains both regular and bold text, each of these segments would be represented by a separate Run object.\n",
    "\n",
    "Runs are useful when you want to apply specific formatting, such as bold, italic, font size, color, etc., to a specific portion of text within a paragraph.\n",
    "\n",
    "Example:\n",
    "\n",
    "Paragraph Object:\n",
    "\n",
    "A \"Paragraph\" object represents a block of text in a Word document. It can contain one or more \"Run\" objects.\n",
    "\n",
    "Paragraphs are the basic units of text organization in a Word document. They can include headings, lists, tables, and more.\n",
    "\n",
    "You can apply paragraph-level formatting, such as alignment, indentation, spacing, and styles, to a Paragraph object.\n",
    "\n",
    "Example:\n"
   ]
  },
  {
   "cell_type": "code",
   "execution_count": null,
   "id": "b51d1ae3",
   "metadata": {},
   "outputs": [],
   "source": [
    "\n",
    "from docx import Document\n",
    "\n",
    "doc = Document()\n",
    "paragraph = doc.add_paragraph('This is a ')\n",
    "run = paragraph.add_run('bold')\n",
    "run.bold = True\n",
    "paragraph.add_run(' text.')\n",
    "doc.save('example.docx')"
   ]
  },
  {
   "cell_type": "code",
   "execution_count": null,
   "id": "e97f8d13",
   "metadata": {},
   "outputs": [],
   "source": [
    "from docx import Document\n",
    "\n",
    "doc = Document()\n",
    "paragraph = doc.add_paragraph('This is a paragraph.')\n",
    "paragraph.alignment = 1  # Center alignment\n",
    "doc.save('example.docx')"
   ]
  },
  {
   "cell_type": "code",
   "execution_count": null,
   "id": "c81e6a86",
   "metadata": {},
   "outputs": [],
   "source": [
    "7. How do you obtain a list of Paragraph objects for a Document object that’s stored in a variable named doc?\n",
    "==>\n",
    "To obtain a list of Paragraph objects from a Document object stored in a variable named doc, you can use the document.\n",
    "paragraphs attribute. This attribute provides a list of all the paragraphs in the document.\n",
    "\n",
    "Here's an example:\n",
    "\n",
    "\n",
    "from docx import Document\n",
    "\n",
    "# Assuming 'doc' is a Document object\n",
    "doc = Document('example.docx')  # Replace with the actual file path\n",
    "\n",
    "# Get a list of Paragraph objects\n",
    "paragraphs = doc.paragraphs\n",
    "\n",
    "# Now 'paragraphs' is a list of Paragraph objects\n",
    "In this example, doc is assumed to be a Document object. The doc.paragraphs attribute gives you a list of all \n",
    "the paragraphs in the document.\n",
    "\n",
    "You can then iterate through the paragraphs list to work with each individual Paragraph object. For example:\n",
    "\n",
    "\n",
    "for paragraph in paragraphs:\n",
    "    print(paragraph.text)\n",
    "This will print the text content of each paragraph in the document. \n",
    "Remember that paragraph.text gives you the text content of a Paragraph object.\n",
    "\n"
   ]
  },
  {
   "cell_type": "raw",
   "id": "af524b8d",
   "metadata": {},
   "source": [
    "8. What type of object has bold, underline, italic, strike, and outline variables?\n",
    "==>The type of object that has bold, underline, italic, strike, and outline variables is a \"Run\" object in the python-docx library.\n",
    "\n",
    "A \"Run\" object represents a contiguous run of text in a paragraph with the same formatting. It is the smallest unit of text manipulation in a Word document. Each Run object can have its own set of formatting attributes, including bold, underline, italic, strike, and outline, among others.\n",
    "\n",
    "Here's an example of how you can apply these formatting options to a Run object:\n",
    "\n",
    "\n",
    "from docx import Document\n",
    "\n",
    "doc = Document()\n",
    "paragraph = doc.add_paragraph()\n",
    "\n",
    "# Add text with different formatting\n",
    "run = paragraph.add_run('This is some text. ')\n",
    "run.bold = True\n",
    "run.underline = True\n",
    "run.italic = True\n",
    "run.strike = True\n",
    "run.outline = True\n",
    "\n",
    "doc.save('example.docx')"
   ]
  },
  {
   "cell_type": "raw",
   "id": "22ffc527",
   "metadata": {},
   "source": [
    "9. What is the difference between False, True, and None for the bold variable?\n",
    "==>In the context of working with text formatting in the python-docx library, the bold variable can take on three different values: False, True, and None. Here's what each of them represents:\n",
    "\n",
    "False:\n",
    "\n",
    "Setting bold to False means that the text will not be formatted as bold.\n",
    "Example: run.bold = False\n",
    "True:\n",
    "\n",
    "Setting bold to True means that the text will be formatted as bold.\n",
    "Example: run.bold = True\n",
    "None:\n",
    "\n",
    "When bold is set to None, it means that the text will inherit the boldness formatting from its parent element (such as the paragraph or style applied to it).\n",
    "If no specific bold formatting is applied at the parent level, the text will not be bold.\n",
    "Example: run.bold = None or simply omit setting run.bold."
   ]
  },
  {
   "cell_type": "raw",
   "id": "5c095531",
   "metadata": {},
   "source": [
    "10. How do you create a Document object for a new Word document?\n",
    "==>To create a Document object for a new Word document using the python-docx library, you can use the Document() constructor. This constructor creates an empty Word document.\n",
    "\n",
    "Here's an example:\n",
    "\n",
    "python\n",
    "Copy code\n",
    "from docx import Document\n",
    "\n",
    "doc = Document()\n",
    "In this example, doc is a Document object representing a new, empty Word document.\n",
    "\n",
    "You can then add content to this document, such as paragraphs, tables, images, and more, using various methods provided by the Document class. For example:\n",
    "\n",
    "\n",
    "paragraph = doc.add_paragraph('This is a paragraph.')\n",
    "table = doc.add_table(rows=2, cols=2)\n",
    "# Add more content as needed\n",
    "\n",
    "doc.save('new_document.docx')\n"
   ]
  },
  {
   "cell_type": "code",
   "execution_count": null,
   "id": "4a08e12f",
   "metadata": {},
   "outputs": [],
   "source": [
    "11. How do you add a paragraph with the text 'Hello, there!' to a Document object stored in a variable named doc?\n",
    "==>\n",
    "from docx import Document\n",
    "\n",
    "# Assuming 'doc' is a Document object\n",
    "doc = Document()  # Create a new Document object\n",
    "\n",
    "# Add a paragraph with the text 'Hello, there!'\n",
    "paragraph = doc.add_paragraph('Hello, there!')\n",
    "\n",
    "# Save the document (optional)\n",
    "doc.save('new_document.docx')\n"
   ]
  },
  {
   "cell_type": "code",
   "execution_count": null,
   "id": "b4b4572d",
   "metadata": {},
   "outputs": [],
   "source": [
    "12. What integers represent the levels of headings available in Word documents?"
   ]
  },
  {
   "cell_type": "raw",
   "id": "415dd5a4",
   "metadata": {},
   "source": [
    "In Word documents, headings are typically organized into levels, and each level is represented by an integer. The integers representing the levels of headings available in Word documents usually range from 1 to 9, where:\n",
    "\n",
    "Heading Level 1 is represented by the integer 1.\n",
    "Heading Level 2 is represented by the integer 2.\n",
    "Heading Level 3 is represented by the integer 3.\n",
    "...\n",
    "Heading Level 9 is represented by the integer 9.\n",
    "These heading levels are used to structure the content in a document. For example, Heading Level 1 might be used for main sections or chapters, Heading Level 2 for subsections within those chapters, and so on.\n",
    "\n",
    "In python-docx, you can apply these heading levels using the add_heading() method, specifying the level parameter. For example:"
   ]
  },
  {
   "cell_type": "code",
   "execution_count": null,
   "id": "d14fa5dc",
   "metadata": {},
   "outputs": [],
   "source": [
    "from docx import Document\n",
    "\n",
    "doc = Document()\n",
    "\n",
    "# Adding headings with different levels\n",
    "doc.add_heading('Heading Level 1', level=1)\n",
    "doc.add_heading('Heading Level 2', level=2)\n",
    "doc.add_heading('Heading Level 3', level=3)\n",
    "\n",
    "doc.save('headings.docx')\n"
   ]
  }
 ],
 "metadata": {
  "kernelspec": {
   "display_name": "Python 3 (ipykernel)",
   "language": "python",
   "name": "python3"
  },
  "language_info": {
   "codemirror_mode": {
    "name": "ipython",
    "version": 3
   },
   "file_extension": ".py",
   "mimetype": "text/x-python",
   "name": "python",
   "nbconvert_exporter": "python",
   "pygments_lexer": "ipython3",
   "version": "3.9.7"
  }
 },
 "nbformat": 4,
 "nbformat_minor": 5
}
