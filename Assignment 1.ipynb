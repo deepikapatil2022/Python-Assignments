{
 "cells": [
  {
   "cell_type": "raw",
   "id": "bcbf79f6",
   "metadata": {},
   "source": [
    "1. In the below elements which of them are values or an expression? eg:- values can be integer or string and expressions will be mathematical operators.\n",
    "* ---> mathematical operator multiplication\n",
    "'hello'---> value string\n",
    "-87.8 -->value float\n",
    "-   --->mathematical operator substraction\n",
    "/   -->mathematical operator division\n",
    "+\t---> mathematical operator plus or (concatenation)\n",
    "6 ---> value integer\n"
   ]
  },
  {
   "cell_type": "raw",
   "id": "fc003891",
   "metadata": {},
   "source": [
    "2. What is the difference between string and variable?\n",
    "---> String is a collection of characters. e.g 'deepika','patil123' \n",
    "variable is an entity where we are storing any type of data values e.g a=4,b='amol', here a and b are variables.."
   ]
  },
  {
   "cell_type": "raw",
   "id": "334abf39",
   "metadata": {},
   "source": [
    "3. Describe three different data types.\n",
    "\n",
    "---> there are following data types in python-\n",
    " 1. string\n",
    " 2. Numeric:- int, float, complex\n",
    " 3. Sequence:- list, tuple, range\n",
    " 4. Set:- set, frozenset\n",
    " 5. Mapping:- dictionary(key:value pair)\n",
    " 6. boolean:- True,False\n",
    " 7. binary:- 0000 1111\n",
    " \n",
    " 1. string is used to store the collection of characters. It is imuttable data type. Not possible to do any change in string. \n",
    " 2. list is used to store different type of data.It is possible to do changes in list.It uses [] brackets to store data. It is muttable data type.\n",
    " 3. dictionary data type is used to store the data in key value pair. It uses {} brackets to store the data. It is possible to do changes in data. Data is accesed by using the key. it is muttable data type."
   ]
  },
  {
   "cell_type": "raw",
   "id": "0a0e221f",
   "metadata": {},
   "source": [
    "4. What is an expression made up of? What do all expressions do?\n",
    "\n",
    "---> An expression made up of combination of variables, constants, literals and operators.It performs one or more operations with one or more operators, variables and literals. The type of operators and operands in the expression determines the type of expression."
   ]
  },
  {
   "cell_type": "raw",
   "id": "4453455c",
   "metadata": {},
   "source": [
    "5. This assignment statements, like spam = 10. What is the difference between an expression and a statement?\n",
    "----> An expression performs one or more operations with one or more operators, variables and literals. \n",
    "And statements is logical instruction."
   ]
  },
  {
   "cell_type": "raw",
   "id": "a358c0eb",
   "metadata": {},
   "source": [
    "6. After running the following code, what does the variable bacon contain?\n",
    "bacon = 22\n",
    "bacon + 1"
   ]
  },
  {
   "cell_type": "code",
   "execution_count": 1,
   "id": "6cb63329",
   "metadata": {},
   "outputs": [
    {
     "data": {
      "text/plain": [
       "23"
      ]
     },
     "execution_count": 1,
     "metadata": {},
     "output_type": "execute_result"
    }
   ],
   "source": [
    "bacon = 22\n",
    "bacon + 1"
   ]
  },
  {
   "cell_type": "raw",
   "id": "c1bb4d21",
   "metadata": {},
   "source": [
    "7. What should the values of the following two terms be?\n",
    "'spam' + 'spamspam'\n",
    "'spam' * 3\n",
    "\n",
    "\n",
    "---->  'spam' + 'spamspam' --It will do concatenation \n",
    "        'spam' * 3 --- It will do repetetion\n"
   ]
  },
  {
   "cell_type": "code",
   "execution_count": 4,
   "id": "afb919f7",
   "metadata": {},
   "outputs": [
    {
     "data": {
      "text/plain": [
       "'spamspamspam'"
      ]
     },
     "execution_count": 4,
     "metadata": {},
     "output_type": "execute_result"
    }
   ],
   "source": [
    "'spam' + 'spamspam'\n"
   ]
  },
  {
   "cell_type": "code",
   "execution_count": 3,
   "id": "17ebf5f8",
   "metadata": {},
   "outputs": [
    {
     "data": {
      "text/plain": [
       "'spamspamspam'"
      ]
     },
     "execution_count": 3,
     "metadata": {},
     "output_type": "execute_result"
    }
   ],
   "source": [
    "'spam' * 3"
   ]
  },
  {
   "cell_type": "raw",
   "id": "2d461b9d",
   "metadata": {},
   "source": [
    "8. Why is eggs a valid variable name while 100 is invalid?\n"
   ]
  },
  {
   "cell_type": "raw",
   "id": "1e054696",
   "metadata": {},
   "source": [
    "----> Variable eggs is valide becouse its has all characters. \n",
    "While 100 is invalide because its number. Variable name does not start with the number. "
   ]
  },
  {
   "cell_type": "raw",
   "id": "96b46328",
   "metadata": {},
   "source": [
    "9. What three functions can be used to get the integer, floating-point number, or string version of a value?\n"
   ]
  },
  {
   "cell_type": "markdown",
   "id": "be83b418",
   "metadata": {},
   "source": [
    "---> To get the integer vesion of a value the function is int()\n",
    "To get the floating-point version of a number the function is float()\n",
    "To get the string version of a number the finction is str()"
   ]
  },
  {
   "cell_type": "raw",
   "id": "179b2e5c",
   "metadata": {},
   "source": [
    "10. Why does this expression cause an error? How can you fix it?\n",
    "'I have eaten ' + 99 + ' burritos.'\n",
    "\n",
    "---> Data type int cant be concatenated with string. \n",
    "it is neccessory to take all data in the same data type."
   ]
  },
  {
   "cell_type": "code",
   "execution_count": 5,
   "id": "d7041643",
   "metadata": {},
   "outputs": [
    {
     "data": {
      "text/plain": [
       "'I have eaten 99 burritos.'"
      ]
     },
     "execution_count": 5,
     "metadata": {},
     "output_type": "execute_result"
    }
   ],
   "source": [
    "'I have eaten ' + str(99) + ' burritos.'"
   ]
  },
  {
   "cell_type": "code",
   "execution_count": null,
   "id": "c406dcd6",
   "metadata": {},
   "outputs": [],
   "source": []
  }
 ],
 "metadata": {
  "kernelspec": {
   "display_name": "Python 3 (ipykernel)",
   "language": "python",
   "name": "python3"
  },
  "language_info": {
   "codemirror_mode": {
    "name": "ipython",
    "version": 3
   },
   "file_extension": ".py",
   "mimetype": "text/x-python",
   "name": "python",
   "nbconvert_exporter": "python",
   "pygments_lexer": "ipython3",
   "version": "3.9.7"
  }
 },
 "nbformat": 4,
 "nbformat_minor": 5
}
