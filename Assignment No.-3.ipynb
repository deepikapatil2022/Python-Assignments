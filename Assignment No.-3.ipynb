{
 "cells": [
  {
   "cell_type": "code",
   "execution_count": null,
   "id": "4619d6fb",
   "metadata": {},
   "outputs": [],
   "source": [
    "1. Why are functions advantageous to have in your programs?\n",
    " "
   ]
  },
  {
   "cell_type": "raw",
   "id": "b8683a4d",
   "metadata": {},
   "source": [
    "Reusability: Functions allow you to write a block of code once and reuse it multiple times throughout your program, rather than duplicating the same code in multiple places. This saves time and makes your code more efficient and easier to maintain.\n",
    "\n",
    "Modularity: Functions allow you to break up your code into smaller, more manageable pieces. Making it easier to test and debug.\n",
    "\n",
    "Abstraction: Functions allow you to abstract away complex functionality behind a simple interface. \n",
    "\n",
    "Encapsulation: Functions allow you to encapsulate logic and data within a specific scope, so that it doesn't interfere with other parts of your program. \n",
    "\n",
    "Efficiency: Functions can help improve the efficiency of your code by allowing you to reuse computations and avoid redundant calculations.\n",
    "\n",
    "Overall, using functions is an important programming technique that can help you write cleaner, more efficient, and more maintainable code."
   ]
  },
  {
   "cell_type": "code",
   "execution_count": null,
   "id": "f7763379",
   "metadata": {},
   "outputs": [],
   "source": [
    "2. When does the code in a function run: when it's specified or when it's called?\n"
   ]
  },
  {
   "cell_type": "raw",
   "id": "5b942e16",
   "metadata": {},
   "source": [
    "The code in a function in Python runs only when the function is called, not when it is specified. Defining a function simply creates a named block of code that can be called later with the specified parameters. \n",
    "\n",
    "When the program executes and reaches the line of code that calls the function, the Python interpreter jumps to the function code block and executes the instructions within it. Once the function completes its execution, the interpreter returns to the point in the program where the function was called and continues executing the remaining code.\n",
    "\n",
    "This is one of the key advantages of using functions in programming because it allows you to reuse code without having to write it repeatedly in different parts of your program. The code in a function only runs when it is explicitly called, so you can define functions at the beginning of your program and use them later on as needed."
   ]
  },
  {
   "cell_type": "code",
   "execution_count": null,
   "id": "cf0ebec1",
   "metadata": {},
   "outputs": [],
   "source": [
    "3. What statement creates a function?\n"
   ]
  },
  {
   "cell_type": "raw",
   "id": "30b0c243",
   "metadata": {},
   "source": [
    "==>\n",
    "\n",
    "In Python, the 'def' statement is used to create a function. The basic syntax for defining a function in Python is:\n",
    "\n",
    "\n",
    "def function_name(parameters):\n",
    "    # Function code block\n",
    "    # ...\n",
    "    # ...\n",
    "    return value\n",
    "\n",
    "\n",
    "Here, 'function_name' is the name you give to your function, and 'parameters' are the inputs that your function takes (these are optional). The function code block is where you put the instructions that you want the function to execute when it is called. The 'return' statement is used to specify the value that the function should return when it completes execution.\n"
   ]
  },
  {
   "cell_type": "raw",
   "id": "2fdaf733",
   "metadata": {},
   "source": [
    "4. What is the difference between a function and a function call?\n"
   ]
  },
  {
   "cell_type": "raw",
   "id": "30411a73",
   "metadata": {},
   "source": [
    "==>\n",
    "In Python, a function is a named block of code that performs a specific task and can be reused throughout your program. The function is defined using the `def` statement and can take one or more input parameters and optionally return a value. \n",
    "A function call, on the other hand, is the act of invoking or executing a function with the specified arguments. When a function is called, the program jumps to the block of code defined within the function and executes the instructions. \n",
    "To better understand the difference between a function and a function call, consider the following example:\n",
    "\n",
    "def greet(name):\n",
    "    print(\"Hello, \" + name + \"!\")\n",
    "greet(\"John\")\n",
    "\n",
    "\n",
    "Here, we define a function 'greet' that takes one parameter 'name' and prints a greeting message. The 'greet' function itself is not executed until it is called later in the program. The function call happens on the second line, where we pass the string \"John\" as an argument to the 'greet' function.\n",
    "\n",
    "When the 'greet' function is called with the argument \"John\", the output will be:\n",
    "\n",
    "Hello, John!\n",
    "\n",
    "\n",
    "In summary, a function is a named block of code that performs a specific task, while a function call is the act of invoking or executing a function with the specified arguments. The function must be defined before it can be called, and it will only be executed when it is called in the program."
   ]
  },
  {
   "cell_type": "code",
   "execution_count": null,
   "id": "33930ceb",
   "metadata": {},
   "outputs": [],
   "source": [
    "5. How many global scopes are there in a Python program? How many local scopes?\n"
   ]
  },
  {
   "cell_type": "raw",
   "id": "bb980369",
   "metadata": {},
   "source": [
    "==>\n",
    "In a Python program, there is only one global scope. This global scope is created when the program starts and persists throughout the entire runtime of the program. Any variable defined at the top-level of a module or outside of any function is considered to be in the global scope.\n",
    "\n",
    "On the other hand, local scopes are created whenever a function is called. Each function call creates a new local scope, and any variables defined within the function are considered to be in the local scope. When the function completes its execution, the local scope is destroyed and the variables it contained are discarded.\n",
    "\n",
    "Therefore, the number of local scopes in a Python program depends on the number of function calls made during runtime. Each function call creates a new local scope, so the number of local scopes can vary based on the structure and flow of the program.\n",
    "\n",
    "It's important to note that variables defined in a local scope are only accessible within that scope and its nested scopes. They cannot be accessed from outside the function in which they are defined. Conversely, variables defined in the global scope are accessible from anywhere in the program."
   ]
  },
  {
   "cell_type": "raw",
   "id": "e7881baf",
   "metadata": {},
   "source": [
    "6. What happens to variables in a local scope when the function call returns?\n"
   ]
  },
  {
   "cell_type": "raw",
   "id": "30f7ec5b",
   "metadata": {},
   "source": [
    "==>\n",
    "When a function call returns in Python, the local scope associated with that function is destroyed, and all variables defined within that scope are lost. The memory allocated for those variables is released, and any references to them become invalid.\n",
    "\n",
    "In other words, any variables defined within a local scope are only accessible and relevant during the execution of the function. Once the function completes its execution and returns, the local scope is destroyed, and the variables defined within it are no longer available.\n",
    "\n",
    "Consider the following example:\n",
    "\n",
    "def my_function():\n",
    "    x = 10\n",
    "    print(\"Inside function: x =\", x)\n",
    "\n",
    "my_function()\n",
    "\n",
    "In this example, the 'my_function' function defines a local variable 'x' and prints its value. When the function is called, the output will be:\n",
    "\n",
    "\n",
    "Inside function: x = 10\n",
    "\n",
    "\n",
    "Once the function completes execution and returns, the local variable 'x' is lost. If we try to access 'x' outside the function, we will get a 'NameError' because the variable is not defined:\n",
    "\n",
    "\n",
    "def my_function():\n",
    "    x = 10\n",
    "    print(\"Inside function: x =\", x)\n",
    "\n",
    "my_function()\n",
    "\n",
    "# Attempting to access x outside the function\n",
    "print(\"Outside function: x =\", x)\n",
    "\n",
    "This code will produce the following error:\n",
    "\n",
    "NameError: name 'x' is not defined\n",
    "\n",
    "In summary, variables defined within a local scope are only accessible and relevant during the execution of the function. Once the function returns, the local scope is destroyed, and the variables defined within it are lost."
   ]
  },
  {
   "cell_type": "code",
   "execution_count": null,
   "id": "b6005d5f",
   "metadata": {},
   "outputs": [],
   "source": [
    "7. What is the concept of a return value? Is it possible to have a return value in an expression?\n"
   ]
  },
  {
   "cell_type": "raw",
   "id": "51e5a2d5",
   "metadata": {},
   "source": [
    "==>\n",
    "In Python, a return value is the value that a function sends back to the caller after it has completed its execution. A function can return any type of value, such as a number, string, list, dictionary, or even another function.\n",
    "\n",
    "To specify a return value in a function, we use the 'return' statement followed by the value we want to return. Here's an example:\n",
    "\n",
    "def add_numbers(a, b):\n",
    "    return a + b\n",
    "\n",
    "In this example, the 'add_numbers' function takes two arguments 'a' and 'b', adds them together, and returns the result using the 'return' statement.\n",
    "\n",
    "It's important to note that not all functions need to return a value. If a function doesn't have a return statement, it will implicitly return `None` when it completes its execution. For example:\n",
    "\n",
    "\n",
    "def print_message():\n",
    "    print(\"Hello, world!\")\n",
    "\n",
    "result = print_message()\n",
    "print(result)  # Output: None\n",
    "\n",
    "\n",
    "In this example, the `print_message` function doesn't have a return statement, so it implicitly returns 'None'. When we assign the result of 'print_message' to the variable 'result' and print it, we get 'None' as the output.\n",
    "\n",
    "In Python, it's also possible to have a return value in an expression. This means that we can use the result of a function call directly in an expression without first assigning it to a variable. For example:\n",
    "\n",
    "\n",
    "def add_numbers(a, b):\n",
    "    return a + b\n",
    "\n",
    "result = add_numbers(2, 3) * 2\n",
    "print(result)  # Output: 10\n",
    "\n",
    "\n",
    "In this example, we call the 'add_numbers' function with arguments '2' and '3', which returns '5'. We then use the result of the function call (5) in an expression, multiplying it by 2 to get 10. We assign this result to the variable 'result' and print it."
   ]
  },
  {
   "cell_type": "code",
   "execution_count": 2,
   "id": "4f6dfe29",
   "metadata": {},
   "outputs": [
    {
     "name": "stdout",
     "output_type": "stream",
     "text": [
      "10\n"
     ]
    }
   ],
   "source": [
    "def add_numbers(a, b):\n",
    "    return a + b\n",
    "\n",
    "result = add_numbers(2, 3) * 2\n",
    "print(result)"
   ]
  },
  {
   "cell_type": "code",
   "execution_count": 1,
   "id": "f3dfb9c1",
   "metadata": {},
   "outputs": [
    {
     "name": "stdout",
     "output_type": "stream",
     "text": [
      "Hello, world!\n",
      "None\n"
     ]
    }
   ],
   "source": [
    "def print_message():\n",
    "    print(\"Hello, world!\")\n",
    "\n",
    "result = print_message()\n",
    "print(result) "
   ]
  },
  {
   "cell_type": "code",
   "execution_count": null,
   "id": "000a23a1",
   "metadata": {},
   "outputs": [],
   "source": [
    "8. If a function does not have a return statement, what is the return value of a call to that function?\n"
   ]
  },
  {
   "cell_type": "raw",
   "id": "879cad83",
   "metadata": {},
   "source": [
    "==>\n",
    "If a function in Python does not have a 'return' statement, the function will implicitly return 'None' when it completes its execution. 'None' is a special value in Python that represents the absence of a value or the null value.\n",
    "\n",
    "Here's an example of a function that doesn't have a return statement:\n",
    "\n",
    "\n",
    "def print_hello():\n",
    "    print(\"Hello, world!\")\n",
    "\n",
    "In this example, the 'print_hello' function doesn't have a 'return' statement. When the function is called, it will simply print \"Hello, world!\" to the console and then implicitly return 'None'.\n",
    "\n",
    "If we assign the result of calling 'print_hello' to a variable and then print that variable, we will see that the value is 'None'\n"
   ]
  },
  {
   "cell_type": "code",
   "execution_count": null,
   "id": "7d1bc203",
   "metadata": {},
   "outputs": [],
   "source": [
    "9. How do you make a function variable refer to the global variable?\n"
   ]
  },
  {
   "cell_type": "raw",
   "id": "9333846e",
   "metadata": {},
   "source": [
    "==>\n",
    "In Python, to make a function variable refer to a global variable, we can use the `global` keyword inside the function. The `global` keyword allows us to access and modify a global variable from within a function.\n",
    "\n",
    "Here's an example of how to use the `global` keyword to refer to a global variable inside a function:\n",
    "\n",
    "\n",
    "x = 10  # Global variable\n",
    "\n",
    "def my_function():\n",
    "    global x\n",
    "    x = 20  # Modify the global variable\n",
    "\n",
    "print(\"Before function call: x =\", x)\n",
    "my_function()\n",
    "print(\"After function call: x =\", x)\n",
    "\n",
    "\n",
    "In this example, we define a global variable 'x' with a value of '10'. We then define a function 'my_function', which uses the 'global' keyword to access the global variable 'x'. Inside the function, we modify the value of 'x' to '20'.\n",
    "\n",
    "When we call the function and print the value of 'x' before and after the function call, we can see that the global variable 'x' has been modified by the function:\n",
    "\n",
    "\n",
    "Before function call: x = 10\n",
    "After function call: x = 20\n",
    "\n",
    "\n",
    "It's important to note that modifying global variables inside functions can make the code harder to understand and debug, and can lead to unexpected behavior if not done carefully. Therefore, it's generally a good practice to avoid using global variables as much as possible and instead pass values as arguments to functions and return values from functions as needed."
   ]
  },
  {
   "cell_type": "code",
   "execution_count": 3,
   "id": "01e9e938",
   "metadata": {},
   "outputs": [
    {
     "name": "stdout",
     "output_type": "stream",
     "text": [
      "Before function call: x = 10\n",
      "After function call: x = 20\n"
     ]
    }
   ],
   "source": [
    "x = 10  # Global variable\n",
    "\n",
    "def my_function():\n",
    "    global x\n",
    "    x = 20  # Modify the global variable\n",
    "\n",
    "print(\"Before function call: x =\", x)\n",
    "my_function()\n",
    "print(\"After function call: x =\", x)\n"
   ]
  },
  {
   "cell_type": "code",
   "execution_count": null,
   "id": "b6d762a9",
   "metadata": {},
   "outputs": [],
   "source": [
    "10. What is the data type of None?\n",
    "--->NoneType"
   ]
  },
  {
   "cell_type": "code",
   "execution_count": 1,
   "id": "64d26de1",
   "metadata": {},
   "outputs": [
    {
     "data": {
      "text/plain": [
       "NoneType"
      ]
     },
     "execution_count": 1,
     "metadata": {},
     "output_type": "execute_result"
    }
   ],
   "source": [
    "type(None)"
   ]
  },
  {
   "cell_type": "code",
   "execution_count": null,
   "id": "c4927e76",
   "metadata": {},
   "outputs": [],
   "source": [
    "11. What does the sentence import areallyourpetsnamederic do?\n"
   ]
  },
  {
   "cell_type": "raw",
   "id": "623998f9",
   "metadata": {},
   "source": [
    "==>\n",
    "The sentence 'import areallyourpetsnamederic' is a syntactically valid Python statement that attempts to import a module named 'areallyourpetsnamederic'. However, it's very unlikely that such a module exists in the Python standard library or any third-party libraries.\n",
    "\n",
    "In Python, the 'import' statement is used to bring in code from other modules into your program's namespace. When you import a module, you gain access to all the functions, classes, and variables defined in that module. You can then use these functions, classes, and variables in your own code.\n",
    "\n",
    "For example, if you wanted to use the 'math' module in Python to perform some mathematical operations, you would import it using the 'import' statement like this:\n",
    "\n",
    "\n",
    "import math\n",
    "\n",
    "# Use functions from the math module\n",
    "x = math.sin(2 * math.pi)\n",
    "y = math.sqrt(25)\n",
    "\n",
    "\n",
    "In this example, we import the 'math' module using the 'import' statement. We can then use functions from the 'math' module, like 'sin()' and 'sqrt()', in our own code.\n",
    "\n",
    "However, since areallyourpetsnamederic' is not a valid Python module, attempting to import it will result in a 'ModuleNotFoundError' at runtime."
   ]
  },
  {
   "cell_type": "code",
   "execution_count": null,
   "id": "5c7fac8e",
   "metadata": {},
   "outputs": [],
   "source": [
    "12. If you had a bacon() feature in a spam module, what would you call it after importing spam?\n"
   ]
  },
  {
   "cell_type": "raw",
   "id": "7ab6501b",
   "metadata": {},
   "source": [
    "==>\n",
    "If we have a `bacon()` function in a module named `spam`, and we want to call that function after importing the `spam` module, we would use the dot notation to access the `bacon()` function as a member of the `spam` module.\n",
    "\n",
    "Here's an example of how to import the `spam` module and call its `bacon()` function:\n",
    "\n",
    "\n",
    "import spam\n",
    "\n",
    "spam.bacon()\n",
    "\n",
    "\n",
    "In this example, we first import the `spam` module using the `import` statement. We can then access the `bacon()` function of the `spam` module using the dot notation, which allows us to refer to the `bacon()` function as `spam.bacon()`. Finally, we call the `bacon()` function using parentheses `()`.\n",
    "\n",
    "If we want to use the `bacon()` function frequently in our code, we can also import it directly into our namespace using the `from ... import` statement like this:\n",
    "\n",
    "\n",
    "from spam import bacon\n",
    "\n",
    "bacon()\n",
    "\n",
    "\n",
    "In this example, we import the `bacon()` function directly from the `spam` module into our namespace, so we can call the function simply by its name `bacon()`, without having to prefix it with `spam.`. However, be careful when using the `from ... import` statement, as it can lead to naming conflicts if you import multiple functions with the same name from different modules."
   ]
  },
  {
   "cell_type": "code",
   "execution_count": null,
   "id": "c566747f",
   "metadata": {},
   "outputs": [],
   "source": [
    "13. What can you do to save a programme from crashing if it encounters an error?\n"
   ]
  },
  {
   "cell_type": "raw",
   "id": "fad9bc31",
   "metadata": {},
   "source": [
    "==>\n",
    "To save a program from crashing if it encounters an error, we can use exception handling in Python. Exception handling is a programming technique that allows us to handle errors or exceptions that occur during program execution in a controlled and graceful way.\n",
    "\n",
    "In Python, we use a `try`/`except` block to handle exceptions. The code that may raise an exception is put inside the `try` block, and the code that handles the exception is put inside the `except` block. If an exception is raised inside the `try` block, the program jumps immediately to the `except` block to handle the exception.\n",
    "\n",
    "Here's an example of how to use a `try`/`except` block to handle an exception in Python:\n",
    "\n",
    "\n",
    "try:\n",
    "    # Code that may raise an exception\n",
    "    x = int(input(\"Enter a number: \"))\n",
    "    print(\"The reciprocal of\", x, \"is\", 1/x)\n",
    "except ValueError:\n",
    "    # Code that handles the exception\n",
    "    print(\"Invalid input. Please enter an integer.\")\n",
    "except ZeroDivisionError:\n",
    "    # Code that handles the exception\n",
    "    print(\"Cannot divide by zero.\")\n",
    "\n",
    "\n",
    "In this example, we use a `try`/`except` block to handle two types of exceptions: `ValueError` and `ZeroDivisionError`. Inside the `try` block, we ask the user to enter a number, and then attempt to calculate the reciprocal of the number. If the user enters an invalid input (e.g. a non-integer), a `ValueError` exception will be raised. If the user enters `0`, a `ZeroDivisionError` exception will be raised.\n",
    "\n",
    "Inside the `except` block, we handle each exception separately. If a `ValueError` exception is raised, we print an error message asking the user to enter an integer. If a `ZeroDivisionError` exception is raised, we print an error message indicating that we cannot divide by zero.\n",
    "\n",
    "By using exception handling in this way, we can catch and handle exceptions gracefully, without crashing the program."
   ]
  },
  {
   "cell_type": "code",
   "execution_count": null,
   "id": "f536a3a0",
   "metadata": {},
   "outputs": [],
   "source": [
    "14. What is the purpose of the try clause? What is the purpose of the except clause?\n"
   ]
  },
  {
   "cell_type": "raw",
   "id": "5bf05952",
   "metadata": {},
   "source": [
    "==>\n",
    "The `try` clause in Python is used to enclose the code that may raise an exception or an error during the program's execution. It is used to test a block of code for errors, exceptions or failures. The purpose of the `try` clause is to catch any errors or exceptions that might occur during the execution of the program and handle them gracefully, without causing the program to crash.\n",
    "\n",
    "The `except` clause in Python is used to handle the exceptions or errors that are caught by the `try` clause. It is used to specify the code that should be executed when an exception or error is raised. The purpose of the `except` clause is to catch the exception or error that was raised by the `try` clause and take appropriate action, such as printing an error message or logging the error.\n",
    "\n",
    "Together, the `try` and `except` clauses form a `try`/`except` block in Python, which allows you to handle exceptions and errors in a controlled and graceful way. When an exception or error is raised in the `try` block, the program jumps immediately to the `except` block to handle the exception or error. By using a `try`/`except` block, you can ensure that your program continues to run even if an unexpected error or exception occurs."
   ]
  },
  {
   "cell_type": "code",
   "execution_count": null,
   "id": "aa9fb9b6",
   "metadata": {},
   "outputs": [],
   "source": []
  },
  {
   "cell_type": "code",
   "execution_count": null,
   "id": "0a090bcf",
   "metadata": {},
   "outputs": [],
   "source": []
  }
 ],
 "metadata": {
  "kernelspec": {
   "display_name": "Python 3 (ipykernel)",
   "language": "python",
   "name": "python3"
  },
  "language_info": {
   "codemirror_mode": {
    "name": "ipython",
    "version": 3
   },
   "file_extension": ".py",
   "mimetype": "text/x-python",
   "name": "python",
   "nbconvert_exporter": "python",
   "pygments_lexer": "ipython3",
   "version": "3.9.7"
  }
 },
 "nbformat": 4,
 "nbformat_minor": 5
}
