{
 "cells": [
  {
   "cell_type": "markdown",
   "id": "1a42cce3",
   "metadata": {},
   "source": [
    "1. Create an assert statement that throws an AssertionError if the variable spam is a negative integer.\n",
    "==>\n",
    "In this example, if the variable spam is a negative integer, the assert statement will raise an AssertionError with the message \"spam must be a non-negative integer\". If spam is non-negative, the assert statement will not do anything and the program will continue to execute."
   ]
  },
  {
   "cell_type": "code",
   "execution_count": 3,
   "id": "fe518e5f",
   "metadata": {},
   "outputs": [
    {
     "ename": "AssertionError",
     "evalue": "spam must be a non-negative integer",
     "output_type": "error",
     "traceback": [
      "\u001b[1;31m---------------------------------------------------------------------------\u001b[0m",
      "\u001b[1;31mAssertionError\u001b[0m                            Traceback (most recent call last)",
      "\u001b[1;32m~\\AppData\\Local\\Temp/ipykernel_18240/277323413.py\u001b[0m in \u001b[0;36m<module>\u001b[1;34m\u001b[0m\n\u001b[0;32m      1\u001b[0m \u001b[0mspam\u001b[0m \u001b[1;33m=\u001b[0m \u001b[1;33m-\u001b[0m\u001b[1;36m5\u001b[0m\u001b[1;33m\u001b[0m\u001b[1;33m\u001b[0m\u001b[0m\n\u001b[0;32m      2\u001b[0m \u001b[1;33m\u001b[0m\u001b[0m\n\u001b[1;32m----> 3\u001b[1;33m \u001b[1;32massert\u001b[0m \u001b[0mspam\u001b[0m \u001b[1;33m>=\u001b[0m \u001b[1;36m0\u001b[0m\u001b[1;33m,\u001b[0m \u001b[1;34m\"spam must be a non-negative integer\"\u001b[0m\u001b[1;33m\u001b[0m\u001b[1;33m\u001b[0m\u001b[0m\n\u001b[0m",
      "\u001b[1;31mAssertionError\u001b[0m: spam must be a non-negative integer"
     ]
    }
   ],
   "source": [
    "spam = -5\n",
    "\n",
    "assert spam >= 0, \"spam must be a non-negative integer\"\n"
   ]
  },
  {
   "cell_type": "markdown",
   "id": "1242dc0f",
   "metadata": {},
   "source": [
    "2. Write an assert statement that triggers an AssertionError if the variables eggs and bacon contain strings that are the same as each other, even if their cases are different (that is, 'hello' and 'hello' are considered the same, and 'goodbye' and 'GOODbye' are also considered the same).\n",
    "\n",
    "==>\n",
    "In this example, the assert statement will trigger an AssertionError if eggs and bacon contain strings that are the same when case is ignored.\n",
    "\n",
    "Keep in mind that this comparison is case-insensitive, so \"Hello\" and \"hello\" will be considered the same. If you want a case-sensitive comparison, you can remove the .lower() method calls."
   ]
  },
  {
   "cell_type": "code",
   "execution_count": 4,
   "id": "16355ed0",
   "metadata": {},
   "outputs": [
    {
     "ename": "AssertionError",
     "evalue": "eggs and bacon cannot have the same value (ignoring case)",
     "output_type": "error",
     "traceback": [
      "\u001b[1;31m---------------------------------------------------------------------------\u001b[0m",
      "\u001b[1;31mAssertionError\u001b[0m                            Traceback (most recent call last)",
      "\u001b[1;32m~\\AppData\\Local\\Temp/ipykernel_18240/2169858112.py\u001b[0m in \u001b[0;36m<module>\u001b[1;34m\u001b[0m\n\u001b[0;32m      2\u001b[0m \u001b[0mbacon\u001b[0m \u001b[1;33m=\u001b[0m \u001b[1;34m\"hello\"\u001b[0m\u001b[1;33m\u001b[0m\u001b[1;33m\u001b[0m\u001b[0m\n\u001b[0;32m      3\u001b[0m \u001b[1;33m\u001b[0m\u001b[0m\n\u001b[1;32m----> 4\u001b[1;33m \u001b[1;32massert\u001b[0m \u001b[0meggs\u001b[0m\u001b[1;33m.\u001b[0m\u001b[0mlower\u001b[0m\u001b[1;33m(\u001b[0m\u001b[1;33m)\u001b[0m \u001b[1;33m!=\u001b[0m \u001b[0mbacon\u001b[0m\u001b[1;33m.\u001b[0m\u001b[0mlower\u001b[0m\u001b[1;33m(\u001b[0m\u001b[1;33m)\u001b[0m\u001b[1;33m,\u001b[0m \u001b[1;34m\"eggs and bacon cannot have the same value (ignoring case)\"\u001b[0m\u001b[1;33m\u001b[0m\u001b[1;33m\u001b[0m\u001b[0m\n\u001b[0m",
      "\u001b[1;31mAssertionError\u001b[0m: eggs and bacon cannot have the same value (ignoring case)"
     ]
    }
   ],
   "source": [
    "eggs = \"Hello\"\n",
    "bacon = \"hello\"\n",
    "\n",
    "assert eggs.lower() != bacon.lower(), \"eggs and bacon cannot have the same value (ignoring case)\"\n"
   ]
  },
  {
   "cell_type": "markdown",
   "id": "5023903a",
   "metadata": {},
   "source": [
    "3. Create an assert statement that throws an AssertionError every time.\n",
    "==>\n",
    "You can simply use the assert statement with a condition that always evaluates to False to trigger an AssertionError. Here's an example:"
   ]
  },
  {
   "cell_type": "code",
   "execution_count": 5,
   "id": "d3d7dd83",
   "metadata": {},
   "outputs": [
    {
     "ename": "AssertionError",
     "evalue": "This assertion always triggers an AssertionError",
     "output_type": "error",
     "traceback": [
      "\u001b[1;31m---------------------------------------------------------------------------\u001b[0m",
      "\u001b[1;31mAssertionError\u001b[0m                            Traceback (most recent call last)",
      "\u001b[1;32m~\\AppData\\Local\\Temp/ipykernel_18240/4174003414.py\u001b[0m in \u001b[0;36m<module>\u001b[1;34m\u001b[0m\n\u001b[1;32m----> 1\u001b[1;33m \u001b[1;32massert\u001b[0m \u001b[1;32mFalse\u001b[0m\u001b[1;33m,\u001b[0m \u001b[1;34m\"This assertion always triggers an AssertionError\"\u001b[0m\u001b[1;33m\u001b[0m\u001b[1;33m\u001b[0m\u001b[0m\n\u001b[0m",
      "\u001b[1;31mAssertionError\u001b[0m: This assertion always triggers an AssertionError"
     ]
    }
   ],
   "source": [
    "assert False, \"This assertion always triggers an AssertionError\"\n"
   ]
  },
  {
   "cell_type": "markdown",
   "id": "49b0f289",
   "metadata": {},
   "source": [
    "In this example, the condition False will always be False, so the assert statement will always trigger an AssertionError with the provided message."
   ]
  },
  {
   "cell_type": "markdown",
   "id": "4216f2e7",
   "metadata": {},
   "source": [
    "4. What are the two lines that must be present in your software in order to call logging.debug()?\n",
    "==>\n",
    "In order to use the logging.debug() function in your Python code, you need to set up the logging configuration first. This typically involves two lines of code:"
   ]
  },
  {
   "cell_type": "code",
   "execution_count": null,
   "id": "926c7fc3",
   "metadata": {},
   "outputs": [],
   "source": [
    "#Import the logging module:\n",
    "import logging"
   ]
  },
  {
   "cell_type": "markdown",
   "id": "d388c665",
   "metadata": {},
   "source": [
    "Configure the logging settings. This includes setting the logging level (e.g., DEBUG, INFO, WARNING, ERROR, CRITICAL) and specifying where the log messages should be sent (e.g., console, file, etc.). For example, to set up basic console logging with a DEBUG level:\n",
    "\n",
    "\n",
    "logging.basicConfig(level=logging.DEBUG)"
   ]
  },
  {
   "cell_type": "code",
   "execution_count": 6,
   "id": "fe74b555",
   "metadata": {},
   "outputs": [
    {
     "name": "stderr",
     "output_type": "stream",
     "text": [
      "DEBUG:root:This is a debug message\n"
     ]
    }
   ],
   "source": [
    "import logging\n",
    "\n",
    "logging.basicConfig(level=logging.DEBUG)\n",
    "\n",
    "logging.debug(\"This is a debug message\")\n"
   ]
  },
  {
   "cell_type": "markdown",
   "id": "cdef0957",
   "metadata": {},
   "source": [
    "5. What are the two lines that your program must have in order to have logging.debug() send a logging message to a file named programLog.txt?\n",
    "==>\n",
    "1. #Import the logging module:\n",
    "import logging\n",
    "\n",
    "2. Configure the logging settings. This includes setting the logging level (e.g., DEBUG, INFO, WARNING, ERROR, CRITICAL) and specifying where the log messages should be sent (e.g., console, file, etc.). For example, to set up basic console logging with a DEBUG level:\n",
    "\n",
    "\n",
    "logging.basicConfig(level=logging.DEBUG)\n"
   ]
  },
  {
   "cell_type": "markdown",
   "id": "2838bb97",
   "metadata": {},
   "source": [
    "6. What are the five levels of logging?\n",
    "==>\n",
    "The five levels of logging in Python, in increasing order of severity, are:\n",
    "\n",
    "DEBUG:\n",
    "\n",
    "This level is used for detailed diagnostic information, typically useful only for diagnosing problems.\n",
    "It is the lowest level of severity.\n",
    "\n",
    "INFO:\n",
    "\n",
    "This level is used for general information about the program's execution. It provides confirmation that things are working as expected.\n",
    "It is typically used for important runtime events that confirm successful program operation.\n",
    "\n",
    "WARNING:\n",
    "\n",
    "This level indicates that something unexpected happened or some problem is detected, but it doesn't necessarily lead to a program failure.\n",
    "It is typically used to indicate potential issues that should be addressed.\n",
    "\n",
    "ERROR:\n",
    "\n",
    "This level is used to indicate more serious problems that prevented the program from performing a function.\n",
    "It is used for errors that should be investigated and addressed.\n",
    "\n",
    "CRITICAL:\n",
    "\n",
    "This is the highest level of severity and is used to indicate a very serious error that may prevent the program from continuing to run.\n",
    "It is typically used for errors that are so severe that they require immediate attention."
   ]
  },
  {
   "cell_type": "code",
   "execution_count": null,
   "id": "09035a45",
   "metadata": {},
   "outputs": [],
   "source": [
    "7. What line of code would you add to your software to disable all logging messages?\n",
    "==>\n",
    "logging.disable(logging.CRITICAL)\n"
   ]
  },
  {
   "cell_type": "markdown",
   "id": "a1a53b07",
   "metadata": {},
   "source": [
    "8.Why is using logging messages better than using print() to display the same message?\n",
    "==>\n",
    "Using logging messages is generally considered better than using print() for several reasons:\n",
    "\n",
    "Flexibility and Configurability:\n",
    "\n",
    "Logging allows you to configure different levels of verbosity (DEBUG, INFO, WARNING, ERROR, CRITICAL) and filter messages accordingly. This allows you to control the amount of information displayed based on the current context or environment.\n",
    "Granular Control:\n",
    "\n",
    "With logging, you can selectively enable or disable logging messages for different parts of your program, even at runtime. This provides granular control over what gets logged and when.\n",
    "Different Outputs:\n",
    "\n",
    "Logging messages can be directed to different outputs like the console, files, email, databases, or external services. This flexibility allows you to capture and store log information in a way that is most suitable for your application.\n",
    "Runtime Impact:\n",
    "\n",
    "In production code, printing messages to the console (especially for non-debugging purposes) can be inefficient and may impact performance. With logging, you can easily control the level of detail and where the messages go.\n",
    "Support for Different Severity Levels:\n",
    "\n",
    "Logging provides different severity levels (DEBUG, INFO, WARNING, ERROR, CRITICAL) which allows you to distinguish between different types of messages and prioritize them accordingly.\n",
    "Support for Logging to Files:\n",
    "\n",
    "Logging allows you to easily log messages to files. This is essential for capturing information in production environments where you might not have access to a console.\n",
    "Structured Data:\n",
    "\n",
    "Logging messages can include additional context and structured data that can be useful for analysis or debugging. This can be achieved through the use of formatters and additional information in the log record.\n",
    "Better for Libraries and Modules:\n",
    "\n",
    "When writing libraries or modules, logging allows consumers of your code to choose how they want to handle log messages, rather than imposing a specific output format."
   ]
  },
  {
   "cell_type": "markdown",
   "id": "a329ca47",
   "metadata": {},
   "source": [
    "9. What are the differences between the Step Over, Step In, and Step Out buttons in the debugger?\n",
    "==>\n",
    "Step Over: Moves to the next line of code. If the current line contains a function call, it executes the entire function without going into its details.\n",
    "\n",
    "Step In: Steps into the details of a function call, allowing you to debug within the called function.\n",
    "\n",
    "Step Out: Executes the remaining lines of the current function and returns to the caller."
   ]
  },
  {
   "cell_type": "markdown",
   "id": "65f582df",
   "metadata": {},
   "source": [
    "10.After you click Continue, when will the debugger stop ?\n",
    "==>\n",
    "After clicking \"Continue\" in a debugger, the program will continue its execution without interruption until one of the following conditions is met:\n",
    "\n",
    "A Breakpoint is Reached:\n",
    "\n",
    "If there is a breakpoint set in the code, the debugger will stop when the program reaches that specific line of code.\n",
    "An Exception is Raised:\n",
    "\n",
    "If an unhandled exception occurs during the program's execution, the debugger will stop at the point where the exception is raised.\n",
    "Manual Interruption:\n",
    "\n",
    "If you manually pause or interrupt the program's execution by clicking the \"Pause\" or \"Stop\" button in the debugger.\n",
    "Program Completes Execution:\n",
    "\n",
    "If the program successfully completes its execution without encountering any breakpoints or exceptions, the debugger will stop when it reaches the end of the program."
   ]
  },
  {
   "cell_type": "markdown",
   "id": "844b0b52",
   "metadata": {},
   "source": [
    "11. What is the concept of a breakpoint?\n",
    "==>\n",
    "When the debugger encounters a breakpoint during execution, it stops, and control is handed over to the developer, who can then perform various debugging actions, such as:\n",
    "\n",
    "Inspecting Variables: You can view the current values of variables in the scope of the breakpoint to understand their states.\n",
    "\n",
    "Evaluating Expressions: You can execute specific code snippets or expressions to see their results at that point in the program.\n",
    "\n",
    "Stepping Through Code: You can use \"Step Over,\" \"Step In,\" and \"Step Out\" actions to navigate through your code and understand its behavior.\n",
    "\n",
    "Changing Variable Values (in some debuggers): In certain debuggers, you may be able to modify variable values at a breakpoint to experiment with different scenarios.\n",
    "\n",
    "Setting Conditions (in some debuggers): You can set conditions for a breakpoint to make it trigger only under specific circumstances.\n",
    "\n",
    "Breakpoints can be set at specific lines of code, usually within an integrated development environment (IDE) or a debugger interface. They're particularly useful for tracking down bugs, understanding program flow, and diagnosing issues in your code. It's a key feature that helps developers pinpoint the exact location where a problem occurs during program execution."
   ]
  },
  {
   "cell_type": "code",
   "execution_count": null,
   "id": "7bbd5e54",
   "metadata": {},
   "outputs": [],
   "source": []
  },
  {
   "cell_type": "code",
   "execution_count": null,
   "id": "eddcc8ea",
   "metadata": {},
   "outputs": [],
   "source": []
  }
 ],
 "metadata": {
  "kernelspec": {
   "display_name": "Python 3 (ipykernel)",
   "language": "python",
   "name": "python3"
  },
  "language_info": {
   "codemirror_mode": {
    "name": "ipython",
    "version": 3
   },
   "file_extension": ".py",
   "mimetype": "text/x-python",
   "name": "python",
   "nbconvert_exporter": "python",
   "pygments_lexer": "ipython3",
   "version": "3.9.7"
  }
 },
 "nbformat": 4,
 "nbformat_minor": 5
}
